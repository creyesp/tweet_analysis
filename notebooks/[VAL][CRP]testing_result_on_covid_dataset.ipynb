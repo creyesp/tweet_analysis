{
 "cells": [
  {
   "cell_type": "code",
   "execution_count": 27,
   "metadata": {},
   "outputs": [],
   "source": [
    "from collections import Counter\n",
    "import json \n",
    "\n",
    "import joblib\n",
    "import pandas as pd \n",
    "import matplotlib.pyplot as plt\n",
    "from sklearn.feature_extraction.text import HashingVectorizer, CountVectorizer\n",
    "from sklearn.linear_model import LogisticRegressionCV\n",
    "from sklearn.pipeline import Pipeline\n",
    "import numpy as np\n",
    "\n",
    "\n",
    "from common import Lematizator, cleaner, tokenizer, STOP_WORD_ES\n",
    "# %matplotlib inline"
   ]
  },
  {
   "cell_type": "markdown",
   "metadata": {},
   "source": [
    "# Load dataset and model\n",
    "## dataset"
   ]
  },
  {
   "cell_type": "code",
   "execution_count": 2,
   "metadata": {},
   "outputs": [
    {
     "name": "stdout",
     "output_type": "stream",
     "text": [
      "../data/raw/uy_tweets_coronavirus_2020-04-09T09:19:19.598204.json\n"
     ]
    }
   ],
   "source": [
    "file_path = [\n",
    "    '../data/raw/uy_tweets_coronavirus_2020-04-09T09:19:19.598204.json',\n",
    "#     '../data/raw/uy_tweets_covid19_2020-04-09T00:01:18.808683.json',\n",
    "#     '../data/raw/uy_tweets_covid_19_2020-04-09T00:47:37.969046.json',\n",
    "#     '../data/raw/uy_tweets_covid19uruguay_2020-04-08T20:45:11.934235.json',\n",
    "#     '../data/raw/uy_tweets_covid_2020-04-09T02:48:43.809046.json',\n",
    "#     '../data/raw/uy_tweets_quedateencasa_2020-04-09T01:48:09.328509.json',\n",
    "]\n",
    "tweets = []\n",
    "for path in file_path:\n",
    "    print(path)\n",
    "    with open(path, 'r') as f:\n",
    "        tweets.extend(json.load(f))"
   ]
  },
  {
   "cell_type": "code",
   "execution_count": 3,
   "metadata": {},
   "outputs": [
    {
     "data": {
      "text/plain": [
       "Counter({'es': 58195,\n",
       "         'en': 203,\n",
       "         'und': 336,\n",
       "         'ca': 268,\n",
       "         'hu': 2,\n",
       "         'pt': 42,\n",
       "         'lt': 14,\n",
       "         'cy': 2,\n",
       "         'sv': 1,\n",
       "         'fi': 1,\n",
       "         'ro': 8,\n",
       "         'fr': 14,\n",
       "         'it': 8,\n",
       "         'in': 1,\n",
       "         'ru': 2,\n",
       "         'de': 1})"
      ]
     },
     "execution_count": 3,
     "metadata": {},
     "output_type": "execute_result"
    }
   ],
   "source": [
    "cc = Counter([k['lang'] for k in tweets])\n",
    "cc"
   ]
  },
  {
   "cell_type": "code",
   "execution_count": 4,
   "metadata": {},
   "outputs": [],
   "source": [
    "dataset_uy = []\n",
    "for tweet in tweets:\n",
    "    keys_tw = ['created_at', 'id', 'full_text', 'is_quote_status', 'retweet_count', 'favorite_count', 'favorited', 'retweeted', 'lang']\n",
    "    keys_usr = ['screen_name', 'location', 'followers_count', 'friends_count', 'listed_count', 'created_at', 'favourites_count', 'verified', 'statuses_count', ]\n",
    "    tw = {key: tweet[key]for key in keys_tw}\n",
    "    usr = {'user_' + key: tweet['user'][key]for key in keys_usr}\n",
    "    tw = {**tw, **usr}\n",
    "    dataset_uy.append(tw)"
   ]
  },
  {
   "cell_type": "markdown",
   "metadata": {},
   "source": [
    "## Models"
   ]
  },
  {
   "cell_type": "code",
   "execution_count": 29,
   "metadata": {},
   "outputs": [],
   "source": [
    "model_path = '../models/linear/ensamble_multi_pipeline.joblib'\n",
    "model = joblib.load(model_path)"
   ]
  },
  {
   "cell_type": "markdown",
   "metadata": {},
   "source": [
    "# Make predictions"
   ]
  },
  {
   "cell_type": "code",
   "execution_count": 30,
   "metadata": {},
   "outputs": [],
   "source": [
    "predictions = model.predict([k['full_text'] for k in dataset_uy])"
   ]
  },
  {
   "cell_type": "markdown",
   "metadata": {},
   "source": [
    "Number of tweets for each class (negative, neutal, positive)"
   ]
  },
  {
   "cell_type": "code",
   "execution_count": 31,
   "metadata": {},
   "outputs": [
    {
     "data": {
      "text/plain": [
       "array([ 7132, 39710, 12256])"
      ]
     },
     "execution_count": 31,
     "metadata": {},
     "output_type": "execute_result"
    }
   ],
   "source": [
    "np.bincount(predictions+1)"
   ]
  },
  {
   "cell_type": "markdown",
   "metadata": {},
   "source": [
    "## Testing tweets"
   ]
  },
  {
   "cell_type": "code",
   "execution_count": 32,
   "metadata": {},
   "outputs": [
    {
     "data": {
      "text/plain": [
       "(1,\n",
       " '@TelenocheUy Cuanto ponen el Pit Cnt para el fondo del coronavirus ??\\nAún no oí  ni lei nada ....')"
      ]
     },
     "execution_count": 32,
     "metadata": {},
     "output_type": "execute_result"
    }
   ],
   "source": [
    "idx = 1236\n",
    "predictions[idx], dataset_uy[idx]['full_text']"
   ]
  },
  {
   "cell_type": "code",
   "execution_count": 33,
   "metadata": {},
   "outputs": [
    {
     "data": {
      "text/plain": [
       "(0,\n",
       " 'Casi 89.000 muertos en el mundo por el #coronavirus, según el recuento de la AFP del jueves 9 de abril a las 11 horas GMT #AFP https://t.co/f8r7bpjlxZ https://t.co/pc29W4YRLL')"
      ]
     },
     "execution_count": 33,
     "metadata": {},
     "output_type": "execute_result"
    }
   ],
   "source": [
    "idx = 59\n",
    "predictions[idx], dataset_uy[idx]['full_text']"
   ]
  },
  {
   "cell_type": "code",
   "execution_count": 34,
   "metadata": {},
   "outputs": [
    {
     "data": {
      "text/plain": [
       "(-1,\n",
       " 'La crisis económica la van a pagar los trabajadores y el Estado. Nunca el capital. El Fondo Coronavirus se paga con deuda nacional, jubilaciones y salarios públicos. Nunca el capital.')"
      ]
     },
     "execution_count": 34,
     "metadata": {},
     "output_type": "execute_result"
    }
   ],
   "source": [
    "idx = 1119\n",
    "predictions[idx], dataset_uy[idx]['full_text']"
   ]
  },
  {
   "cell_type": "markdown",
   "metadata": {},
   "source": [
    "# Results"
   ]
  },
  {
   "cell_type": "code",
   "execution_count": 35,
   "metadata": {},
   "outputs": [
    {
     "name": "stderr",
     "output_type": "stream",
     "text": [
      "/home/cesar/software/anaconda3/lib/python3.7/site-packages/pandas/core/arrays/datetimes.py:1172: UserWarning: Converting to PeriodArray/Index representation will drop timezone information.\n",
      "  \"will drop timezone information.\", UserWarning)\n"
     ]
    },
    {
     "data": {
      "image/png": "[encoded data removed]",
      "text/plain": [
       "<Figure size 720x360 with 1 Axes>"
      ]
     },
     "metadata": {
      "needs_background": "light"
     },
     "output_type": "display_data"
    }
   ],
   "source": [
    "df = pd.Series(predictions, index=pd.to_datetime([k['created_at'] for k in dataset_uy]), name='date')\n",
    "\n",
    "df = df[df.index>'2020-04-02']\n",
    "\n",
    "pos = df[df==1]\n",
    "neu = df[df==0] + 1 \n",
    "neg = df[df==-1] + 2 \n",
    "\n",
    "rule = '1H'\n",
    "f, ax = plt.subplots(figsize=(10,5))\n",
    "pos.resample(rule).sum().plot(ax=ax, label='pos', color='b', alpha=0.5)\n",
    "neu.resample(rule).sum().plot(ax=ax, label='neu', color='g', alpha=0.5)\n",
    "neg.resample(rule).sum().plot(ax=ax, label='neg', color='r', alpha=0.5)\n",
    "for k in range(2, 9):\n",
    "    ax.vlines(f'2020-04-0{k} 20:00:00', 0, 3000, linestyle=':', alpha=0.5)\n",
    "ax.legend()\n",
    "plt.show()"
   ]
  },
  {
   "cell_type": "code",
   "execution_count": 36,
   "metadata": {},
   "outputs": [],
   "source": [
    "neg = [tweet['full_text'] for pred, tweet in zip(predictions, dataset_uy) if pred==-1]"
   ]
  },
  {
   "cell_type": "code",
   "execution_count": 39,
   "metadata": {},
   "outputs": [
    {
     "data": {
      "text/plain": [
       "['La crisis económica la van a pagar los trabajadores y el Estado. Nunca el capital. El Fondo Coronavirus se paga con deuda nacional, jubilaciones y salarios públicos. Nunca el capital.',\n",
       " '🎙 @ANIIuy hace distintos llamados para promover capacidades locales ante el coronavirus y piensa en qué hará el «día después» para que la innovación sirva de impulso a la economía: Lo charlamos con Fernando Brum (@fbrum34), presidente de ANII.\\n\\nhttps://t.co/7jtXhL0uDx https://t.co/t8djP2wvkm',\n",
       " 'Atribuir, en Argentina, el default técnico de la deuda local, al coronavirus, es una gran tontería. Es el resultado lógico y previsible de un proceso de pésimas políticas económicas, que todavía traerá peores capítulos.',\n",
       " 'Haciendo política con el Coronavirus. \\nCuando gobernaba, a fin de enero, que no había que \"crear pánico\".\\nAhora crea pánico diciendo que hay pocos tests. \\nSi se diera cuenta del asco y la falta de respeto que genera, al menos se callaría la boca. https://t.co/5JBZSOH4pD',\n",
       " 'Murió el Presidente de Banco Santander Portugal por Coronavirus. Miren lo que escribió su hija :\\n\\n\"Somos una flia millonaria y mi padre murió buscando una cosa que es gratis: El aire. Murió sofocado, solo en UCI. Olvida el dinero y quédate en casa!\". https://t.co/odMmu6FHWO',\n",
       " 'Investigadores australianos habrían descubierto un fármaco antiparasitario (ivermectina) que ya está aprobado por la FDA que mataría el COVID-19 en 48 horas. De confirmarse los resultados obtenidos la única cuestión pendiente sería determinar la dosis.\\nhttps://t.co/MNWoQXTFFz',\n",
       " 'En Cámara de Diputados acabamos de aprobar por unanimidad transferir $ 45 millones a rentas generales con la finalidad de aportar a Fondo Coronavirus. ¡Se puede!',\n",
       " 'esas propuesta hubieran significado un ahora de 400 millones de dólares en 2016 y 300 millones en cada año posterior; 1700 millones de dólares que hoy podríamos tener para pelear contra el Coronavirus; pero el FA no escuchó y no lo trató; ahora lo plantea']"
      ]
     },
     "execution_count": 39,
     "metadata": {},
     "output_type": "execute_result"
    }
   ],
   "source": [
    "neg[::1000]"
   ]
  },
  {
   "cell_type": "code",
   "execution_count": 40,
   "metadata": {},
   "outputs": [],
   "source": [
    "pos = [tweet['full_text'] for pred, tweet in zip(predictions, dataset_uy) if pred==1]"
   ]
  },
  {
   "cell_type": "code",
   "execution_count": 41,
   "metadata": {},
   "outputs": [
    {
     "data": {
      "text/plain": [
       "['Presidente Lacalle Pou anunció que el 22 de abril se retomarán las clases en más de 900 escuelas rurales\\n\\nhttps://t.co/bNPgMokZgv',\n",
       " 'Los #tests de #coronavirus no se hacían por un tema de plata. Ahora quedó todo arreglado. Los pagás vos https://t.co/2y40bK7lKU\\nNo te olvides de aplaudir a las 9 de la noche. https://t.co/O36cblar4z',\n",
       " 'Muchas gracias a nuestro personal por hacer posible cada día que contemos con ambientes limpios y seguros para vivir y trabajar.\\nTodos seguiremos colaborando para superar este desafío.\\nAl #Coronavirus #LeGanamosEntreTodos si #NosCuidamosEntreTodos https://t.co/HOB6626ZjP',\n",
       " 'La OMS descarta que las mascarillas sean la “solución milagro” contra la pandemia de coronavirus #AFP https://t.co/tXYrvqh7UJ https://t.co/tj104iAHl1',\n",
       " 'Esta bueno o morís ☣️envenenado o morís por el☢️virus pero seguro q si lo tomas CORONAVIRUS no vas a tener acá o en 👻 https://t.co/DDqMnziCHv',\n",
       " 'Tristán Narvaja HOY\\nSi se extiende el coronavirus que no señalen el proceder del gobierno.\\nTodas esas personas son potenciales homicidas al contagiarse irresponsablemente y luego contagiar masivamente\\nPENSALO...... https://t.co/9EWmCFFKrw',\n",
       " 'Ojalá  !!!  \\n https://t.co/evl8QLyn77',\n",
       " 'Murió la quinta persona por coronavirus; la mujer tenía 53 años y padecía cáncer https://t.co/4yuKyg0OHT',\n",
       " '@erugarciaa @Elcammarota Mi wifi anda para el ogt Y NI ESO PUEDO TENER. El coronavirus no para de quitarme cosas.',\n",
       " '#ULTIMAHORA Merkel: las cifras del coronavirus dan \"esperanza\" pero aún es \"pronto\" para suavizar las restricciones #AFP https://t.co/QaSVi9UtJS',\n",
       " 'Te exhortamos a que te quedes en tu casa. \\n\\nSi no te queda otra opción que salir, prestá atención a estas recomendaciones:\\n\\n#Coronavirus #COVIDー19 https://t.co/jAlBEMuZj9',\n",
       " 'Los clientes empujan carritos, tocan alimentos e incluso se humedecen los dedos para contar billetes, cualquiera de ellos puede ser portador y transmisor del nuevo coronavirus y eso angustia a los empleados de los supermercados #AFP https://t.co/Ib7eyh41t4\\n🖊 @alexandriasage https://t.co/2LQU1Sb5xn',\n",
       " 'Esta imagen no fue tomada en Ecuador, sino en México durante una inhumación en 2018 #AFP\\nMás aquí ➡ https://t.co/yPjaKyKxaE\\n[3/3] https://t.co/KTYwPPWiXg']"
      ]
     },
     "execution_count": 41,
     "metadata": {},
     "output_type": "execute_result"
    }
   ],
   "source": [
    "pos[::1000]"
   ]
  },
  {
   "cell_type": "markdown",
   "metadata": {},
   "source": [
    "## Models"
   ]
  },
  {
   "cell_type": "code",
   "execution_count": 42,
   "metadata": {},
   "outputs": [
    {
     "ename": "EOFError",
     "evalue": "",
     "output_type": "error",
     "traceback": [
      "\u001b[0;31m---------------------------------------------------------------------------\u001b[0m",
      "\u001b[0;31mEOFError\u001b[0m                                  Traceback (most recent call last)",
      "\u001b[0;32m<ipython-input-42-c9ed23762092>\u001b[0m in \u001b[0;36m<module>\u001b[0;34m\u001b[0m\n\u001b[1;32m      1\u001b[0m \u001b[0mmodel_path\u001b[0m \u001b[0;34m=\u001b[0m \u001b[0;34m'../models/linear/mnb_multi_pipeline.joblib'\u001b[0m\u001b[0;34m\u001b[0m\u001b[0;34m\u001b[0m\u001b[0m\n\u001b[0;32m----> 2\u001b[0;31m \u001b[0mlogit_model\u001b[0m \u001b[0;34m=\u001b[0m \u001b[0mjoblib\u001b[0m\u001b[0;34m.\u001b[0m\u001b[0mload\u001b[0m\u001b[0;34m(\u001b[0m\u001b[0mmodel_path\u001b[0m\u001b[0;34m)\u001b[0m\u001b[0;34m\u001b[0m\u001b[0;34m\u001b[0m\u001b[0m\n\u001b[0m",
      "\u001b[0;32m~/software/anaconda3/lib/python3.7/site-packages/joblib/numpy_pickle.py\u001b[0m in \u001b[0;36mload\u001b[0;34m(filename, mmap_mode)\u001b[0m\n\u001b[1;32m    596\u001b[0m                     \u001b[0;32mreturn\u001b[0m \u001b[0mload_compatibility\u001b[0m\u001b[0;34m(\u001b[0m\u001b[0mfobj\u001b[0m\u001b[0;34m)\u001b[0m\u001b[0;34m\u001b[0m\u001b[0;34m\u001b[0m\u001b[0m\n\u001b[1;32m    597\u001b[0m \u001b[0;34m\u001b[0m\u001b[0m\n\u001b[0;32m--> 598\u001b[0;31m                 \u001b[0mobj\u001b[0m \u001b[0;34m=\u001b[0m \u001b[0m_unpickle\u001b[0m\u001b[0;34m(\u001b[0m\u001b[0mfobj\u001b[0m\u001b[0;34m,\u001b[0m \u001b[0mfilename\u001b[0m\u001b[0;34m,\u001b[0m \u001b[0mmmap_mode\u001b[0m\u001b[0;34m)\u001b[0m\u001b[0;34m\u001b[0m\u001b[0;34m\u001b[0m\u001b[0m\n\u001b[0m\u001b[1;32m    599\u001b[0m \u001b[0;34m\u001b[0m\u001b[0m\n\u001b[1;32m    600\u001b[0m     \u001b[0;32mreturn\u001b[0m \u001b[0mobj\u001b[0m\u001b[0;34m\u001b[0m\u001b[0;34m\u001b[0m\u001b[0m\n",
      "\u001b[0;32m~/software/anaconda3/lib/python3.7/site-packages/joblib/numpy_pickle.py\u001b[0m in \u001b[0;36m_unpickle\u001b[0;34m(fobj, filename, mmap_mode)\u001b[0m\n\u001b[1;32m    524\u001b[0m     \u001b[0mobj\u001b[0m \u001b[0;34m=\u001b[0m \u001b[0;32mNone\u001b[0m\u001b[0;34m\u001b[0m\u001b[0;34m\u001b[0m\u001b[0m\n\u001b[1;32m    525\u001b[0m     \u001b[0;32mtry\u001b[0m\u001b[0;34m:\u001b[0m\u001b[0;34m\u001b[0m\u001b[0;34m\u001b[0m\u001b[0m\n\u001b[0;32m--> 526\u001b[0;31m         \u001b[0mobj\u001b[0m \u001b[0;34m=\u001b[0m \u001b[0munpickler\u001b[0m\u001b[0;34m.\u001b[0m\u001b[0mload\u001b[0m\u001b[0;34m(\u001b[0m\u001b[0;34m)\u001b[0m\u001b[0;34m\u001b[0m\u001b[0;34m\u001b[0m\u001b[0m\n\u001b[0m\u001b[1;32m    527\u001b[0m         \u001b[0;32mif\u001b[0m \u001b[0munpickler\u001b[0m\u001b[0;34m.\u001b[0m\u001b[0mcompat_mode\u001b[0m\u001b[0;34m:\u001b[0m\u001b[0;34m\u001b[0m\u001b[0;34m\u001b[0m\u001b[0m\n\u001b[1;32m    528\u001b[0m             warnings.warn(\"The file '%s' has been generated with a \"\n",
      "\u001b[0;32m~/software/anaconda3/lib/python3.7/pickle.py\u001b[0m in \u001b[0;36mload\u001b[0;34m(self)\u001b[0m\n\u001b[1;32m   1081\u001b[0m                 \u001b[0mkey\u001b[0m \u001b[0;34m=\u001b[0m \u001b[0mread\u001b[0m\u001b[0;34m(\u001b[0m\u001b[0;36m1\u001b[0m\u001b[0;34m)\u001b[0m\u001b[0;34m\u001b[0m\u001b[0;34m\u001b[0m\u001b[0m\n\u001b[1;32m   1082\u001b[0m                 \u001b[0;32mif\u001b[0m \u001b[0;32mnot\u001b[0m \u001b[0mkey\u001b[0m\u001b[0;34m:\u001b[0m\u001b[0;34m\u001b[0m\u001b[0;34m\u001b[0m\u001b[0m\n\u001b[0;32m-> 1083\u001b[0;31m                     \u001b[0;32mraise\u001b[0m \u001b[0mEOFError\u001b[0m\u001b[0;34m\u001b[0m\u001b[0;34m\u001b[0m\u001b[0m\n\u001b[0m\u001b[1;32m   1084\u001b[0m                 \u001b[0;32massert\u001b[0m \u001b[0misinstance\u001b[0m\u001b[0;34m(\u001b[0m\u001b[0mkey\u001b[0m\u001b[0;34m,\u001b[0m \u001b[0mbytes_types\u001b[0m\u001b[0;34m)\u001b[0m\u001b[0;34m\u001b[0m\u001b[0;34m\u001b[0m\u001b[0m\n\u001b[1;32m   1085\u001b[0m                 \u001b[0mdispatch\u001b[0m\u001b[0;34m[\u001b[0m\u001b[0mkey\u001b[0m\u001b[0;34m[\u001b[0m\u001b[0;36m0\u001b[0m\u001b[0;34m]\u001b[0m\u001b[0;34m]\u001b[0m\u001b[0;34m(\u001b[0m\u001b[0mself\u001b[0m\u001b[0;34m)\u001b[0m\u001b[0;34m\u001b[0m\u001b[0;34m\u001b[0m\u001b[0m\n",
      "\u001b[0;31mEOFError\u001b[0m: "
     ]
    }
   ],
   "source": [
    "model_path = '../models/linear/mnb_multi_pipeline.joblib'\n",
    "logit_model = joblib.load(model_path)"
   ]
  },
  {
   "cell_type": "markdown",
   "metadata": {},
   "source": [
    "# Make predictions"
   ]
  },
  {
   "cell_type": "code",
   "execution_count": 43,
   "metadata": {},
   "outputs": [
    {
     "ename": "NameError",
     "evalue": "name 'logit_model' is not defined",
     "output_type": "error",
     "traceback": [
      "\u001b[0;31m---------------------------------------------------------------------------\u001b[0m",
      "\u001b[0;31mNameError\u001b[0m                                 Traceback (most recent call last)",
      "\u001b[0;32m<ipython-input-43-bc7cf917bfa8>\u001b[0m in \u001b[0;36m<module>\u001b[0;34m\u001b[0m\n\u001b[0;32m----> 1\u001b[0;31m \u001b[0mlogit_predictions\u001b[0m \u001b[0;34m=\u001b[0m \u001b[0mlogit_model\u001b[0m\u001b[0;34m.\u001b[0m\u001b[0mpredict\u001b[0m\u001b[0;34m(\u001b[0m\u001b[0;34m[\u001b[0m\u001b[0mk\u001b[0m\u001b[0;34m[\u001b[0m\u001b[0;34m'full_text'\u001b[0m\u001b[0;34m]\u001b[0m \u001b[0;32mfor\u001b[0m \u001b[0mk\u001b[0m \u001b[0;32min\u001b[0m \u001b[0mdataset_uy\u001b[0m\u001b[0;34m]\u001b[0m\u001b[0;34m)\u001b[0m\u001b[0;34m\u001b[0m\u001b[0;34m\u001b[0m\u001b[0m\n\u001b[0m",
      "\u001b[0;31mNameError\u001b[0m: name 'logit_model' is not defined"
     ]
    }
   ],
   "source": [
    "logit_predictions = logit_model.predict([k['full_text'] for k in dataset_uy])"
   ]
  },
  {
   "cell_type": "markdown",
   "metadata": {},
   "source": [
    "Number of tweets for each class (negative, neutal, positive)"
   ]
  },
  {
   "cell_type": "code",
   "execution_count": null,
   "metadata": {},
   "outputs": [],
   "source": [
    "np.bincount(logit_predictions+1)"
   ]
  },
  {
   "cell_type": "markdown",
   "metadata": {},
   "source": [
    "## Testing tweets"
   ]
  },
  {
   "cell_type": "code",
   "execution_count": null,
   "metadata": {},
   "outputs": [],
   "source": [
    "idx = 1236\n",
    "logit_predictions[idx], dataset_uy[idx]['full_text']"
   ]
  },
  {
   "cell_type": "code",
   "execution_count": null,
   "metadata": {},
   "outputs": [],
   "source": [
    "idx = 59\n",
    "logit_predictions[idx], dataset_uy[idx]['full_text']"
   ]
  },
  {
   "cell_type": "code",
   "execution_count": null,
   "metadata": {},
   "outputs": [],
   "source": [
    "idx = 1119\n",
    "logit_predictions[idx], dataset_uy[idx]['full_text']"
   ]
  },
  {
   "cell_type": "markdown",
   "metadata": {},
   "source": [
    "# Results"
   ]
  },
  {
   "cell_type": "code",
   "execution_count": null,
   "metadata": {},
   "outputs": [],
   "source": [
    "df = pd.Series(logit_predictions, index=pd.to_datetime([k['created_at'] for k in dataset_uy]), name='date')\n",
    "\n",
    "df = df[df.index>'2020-04-02']\n",
    "\n",
    "pos = df[df==1]\n",
    "neu = df[df==0] + 1 \n",
    "neg = df[df==-1] + 2 \n",
    "\n",
    "rule = '1H'\n",
    "f, ax = plt.subplots(figsize=(10,5))\n",
    "pos.resample(rule).sum().plot(ax=ax, label='pos', color='b', alpha=0.5)\n",
    "neu.resample(rule).sum().plot(ax=ax, label='neu', color='g', alpha=0.5)\n",
    "neg.resample(rule).sum().plot(ax=ax, label='neg', color='r', alpha=0.5)\n",
    "for k in range(2, 9):\n",
    "    ax.vlines(f'2020-04-0{k} 20:00:00', 0, 3000, linestyle=':', alpha=0.5)\n",
    "ax.legend()\n",
    "plt.show()"
   ]
  },
  {
   "cell_type": "code",
   "execution_count": null,
   "metadata": {},
   "outputs": [],
   "source": [
    "pos = [tweet['full_text'] for pred, tweet in zip(logit_predictions, dataset_uy) if pred==1]"
   ]
  },
  {
   "cell_type": "code",
   "execution_count": null,
   "metadata": {},
   "outputs": [],
   "source": [
    "pos[9]"
   ]
  }
 ],
 "metadata": {
  "kernelspec": {
   "display_name": "Python 3",
   "language": "python",
   "name": "python3"
  },
  "language_info": {
   "codemirror_mode": {
    "name": "ipython",
    "version": 3
   },
   "file_extension": ".py",
   "mimetype": "text/x-python",
   "name": "python",
   "nbconvert_exporter": "python",
   "pygments_lexer": "ipython3",
   "version": "3.7.1"
  },
  "toc": {
   "base_numbering": 1,
   "nav_menu": {},
   "number_sections": true,
   "sideBar": true,
   "skip_h1_title": false,
   "title_cell": "Table of Contents",
   "title_sidebar": "Contents",
   "toc_cell": false,
   "toc_position": {},
   "toc_section_display": true,
   "toc_window_display": false
  },
  "varInspector": {
   "cols": {
    "lenName": 16,
    "lenType": 16,
    "lenVar": 40
   },
   "kernels_config": {
    "python": {
     "delete_cmd_postfix": "",
     "delete_cmd_prefix": "del ",
     "library": "var_list.py",
     "varRefreshCmd": "print(var_dic_list())"
    },
    "r": {
     "delete_cmd_postfix": ") ",
     "delete_cmd_prefix": "rm(",
     "library": "var_list.r",
     "varRefreshCmd": "cat(var_dic_list()) "
    }
   },
   "types_to_exclude": [
    "module",
    "function",
    "builtin_function_or_method",
    "instance",
    "_Feature"
   ],
   "window_display": false
  }
 },
 "nbformat": 4,
 "nbformat_minor": 2
}
