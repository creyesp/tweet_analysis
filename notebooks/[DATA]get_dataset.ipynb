{
 "cells": [
  {
   "cell_type": "code",
   "execution_count": 235,
   "metadata": {},
   "outputs": [],
   "source": [
    "from datetime import datetime\n",
    "import json \n",
    "import tweepy\n",
    "import ijson\n",
    "from pprint import pprint"
   ]
  },
  {
   "cell_type": "code",
   "execution_count": 171,
   "metadata": {},
   "outputs": [],
   "source": [
    "with open('../credentials/twitter_credentials.json') as f:\n",
    "    credentials = json.load(f)\n",
    "\n",
    "auth = tweepy.OAuthHandler(credentials['consumer_key'], credentials['consumer_secret'])\n",
    "auth.set_access_token(credentials['token'], credentials['token_secret'])\n",
    "api = tweepy.API(auth, wait_on_rate_limit=True)"
   ]
  },
  {
   "cell_type": "code",
   "execution_count": 172,
   "metadata": {},
   "outputs": [],
   "source": [
    "latitide = -34.883611\n",
    "longitude = -56.181944\n",
    "radius = 10"
   ]
  },
  {
   "cell_type": "markdown",
   "metadata": {},
   "source": [
    "# Geocode search"
   ]
  },
  {
   "cell_type": "code",
   "execution_count": 245,
   "metadata": {},
   "outputs": [
    {
     "name": "stdout",
     "output_type": "stream",
     "text": [
      "2020-04-08 14:09:13 | es |  UrugdelFuturo | RT @AzarGomez: FA INCREPA A GARCE. \n",
      "SENTEMOSNOS Y DISFRUTEMOS AL VER COMO SE FILETEAN ENTRE ELLOS.\n",
      "LO QUE ES NO SABER PERDER.\n",
      "PENSALO.....…\n",
      "2020-04-08 14:09:13 | es |  ga_meneses | @Apartidista31 @Oandradelallana Todo paco y pico el tipo...\n",
      "2020-04-08 14:09:12 | es |  GastonTesillo | RT @AFPespanol: El confinamiento impuesto en varios países europeos frente a la pandemia parece empezar a dar frutos, aunque el coronavirus…\n",
      "2020-04-08 14:09:12 | es |  MarianaOron4 | @carinanovarese Tengo si.... Gustavo  quesos \n",
      "Esta en https://t.co/m9xOD5BpnW tmb https://t.co/g2B6gm2JrX\n",
      "2020-04-08 14:09:11 | es |  lia_cxolors9 | Son como niños y en donde estan las rubias https://t.co/vlGFxV98v1\n"
     ]
    }
   ],
   "source": [
    "n_items = 5\n",
    "uy_tweets = tweepy.Cursor(api.search, geocode=f\"{latitide},{longitude},{radius}km\", tweet_mode='extended')\n",
    "\n",
    "for tweet in uy_tweets.items(n_items):\n",
    "    print(f'{tweet.created_at} | {tweet.lang} |  {tweet.user.screen_name} | {tweet.full_text}')\n",
    "        "
   ]
  },
  {
   "cell_type": "code",
   "execution_count": 247,
   "metadata": {},
   "outputs": [],
   "source": [
    "def _retrieve_tweet(tweet):\n",
    "    if hasattr(tweet, 'retweeted_status'):\n",
    "        tweet=tweet.retweeted_status._json\n",
    "    else:\n",
    "        tweet=tweet._json\n",
    "    return tweet\n",
    "\n",
    "def search_word(search_txt, n_items=None, until_date=None,\n",
    "                latitide=None, longitude=None, radius=None, **kwargs):\n",
    "    \"\"\"Retrieve tweets.\"\"\"\n",
    "    if latitide and longitude and radius:\n",
    "        uy_tweets = tweepy.Cursor(api.search,\n",
    "                                  q=search_txt,\n",
    "                                  until=until_date,\n",
    "                                  geocode=f\"{latitide},{longitude},{radius}km\",\n",
    "                                  tweet_mode='extended',\n",
    "                                  **kwargs,\n",
    "                                 )\n",
    "    else:\n",
    "        uy_tweets = tweepy.Cursor(api.search,\n",
    "                                  q=search_txt,\n",
    "                                  until=until_date,\n",
    "                                  tweet_mode='extended',\n",
    "                                  **kwargs)\n",
    "\n",
    "    tweets = []\n",
    "    if n_items:\n",
    "        for tweet in uy_tweets.items(n_items):\n",
    "            tweets.append(_retrieve_tweet(tweet))\n",
    "    else:\n",
    "        for tweet in uy_tweets.items():\n",
    "            tweets.append(_retrieve_tweet(tweet))\n",
    "    \n",
    "    return tweets"
   ]
  },
  {
   "cell_type": "code",
   "execution_count": null,
   "metadata": {},
   "outputs": [],
   "source": [
    "keys = [\n",
    "    'covid19uruguay', \n",
    "    'covid19',\n",
    "    'covid_19',\n",
    "    'quedateencasa',\n",
    "    'covid',\n",
    "    'coronavirus',\n",
    "]\n",
    "\n",
    "full_dataset = []\n",
    "for key in keys:\n",
    "    full_dataset.extend(search_word(key))\n",
    "    \n",
    "ts = datetime.now().isoformat()\n",
    "with open(f'../data/uy_tweets_{ts}.json', 'w') as f:\n",
    "    json.dump(tweets, f)"
   ]
  },
  {
   "cell_type": "code",
   "execution_count": 248,
   "metadata": {},
   "outputs": [],
   "source": []
  },
  {
   "cell_type": "code",
   "execution_count": 249,
   "metadata": {},
   "outputs": [
    {
     "name": "stdout",
     "output_type": "stream",
     "text": [
      "{'contributors': None,\n",
      " 'coordinates': None,\n",
      " 'created_at': 'Wed Apr 08 14:09:38 +0000 2020',\n",
      " 'display_text_range': [0, 72],\n",
      " 'entities': {'hashtags': [{'indices': [57, 72], 'text': 'COVID19Uruguay'}],\n",
      "              'media': [{'display_url': 'pic.twitter.com/73xF4NYrxq',\n",
      "                         'expanded_url': 'https://twitter.com/verograuert/status/1247889340606234628/photo/1',\n",
      "                         'id': 1247889283991490564,\n",
      "                         'id_str': '1247889283991490564',\n",
      "                         'indices': [73, 96],\n",
      "                         'media_url': 'http://pbs.twimg.com/media/EVFksTNUUAQZ56j.png',\n",
      "                         'media_url_https': 'https://pbs.twimg.com/media/EVFksTNUUAQZ56j.png',\n",
      "                         'sizes': {'large': {'h': 588,\n",
      "                                             'resize': 'fit',\n",
      "                                             'w': 625},\n",
      "                                   'medium': {'h': 588,\n",
      "                                              'resize': 'fit',\n",
      "                                              'w': 625},\n",
      "                                   'small': {'h': 588,\n",
      "                                             'resize': 'fit',\n",
      "                                             'w': 625},\n",
      "                                   'thumb': {'h': 150,\n",
      "                                             'resize': 'crop',\n",
      "                                             'w': 150}},\n",
      "                         'type': 'photo',\n",
      "                         'url': 'https://t.co/73xF4NYrxq'}],\n",
      "              'symbols': [],\n",
      "              'urls': [],\n",
      "              'user_mentions': [{'id': 54259597,\n",
      "                                 'id_str': '54259597',\n",
      "                                 'indices': [3, 16],\n",
      "                                 'name': 'El Observador',\n",
      "                                 'screen_name': 'ObservadorUY'}]},\n",
      " 'extended_entities': {'media': [{'display_url': 'pic.twitter.com/73xF4NYrxq',\n",
      "                                  'expanded_url': 'https://twitter.com/verograuert/status/1247889340606234628/photo/1',\n",
      "                                  'id': 1247889283991490564,\n",
      "                                  'id_str': '1247889283991490564',\n",
      "                                  'indices': [73, 96],\n",
      "                                  'media_url': 'http://pbs.twimg.com/media/EVFksTNUUAQZ56j.png',\n",
      "                                  'media_url_https': 'https://pbs.twimg.com/media/EVFksTNUUAQZ56j.png',\n",
      "                                  'sizes': {'large': {'h': 588,\n",
      "                                                      'resize': 'fit',\n",
      "                                                      'w': 625},\n",
      "                                            'medium': {'h': 588,\n",
      "                                                       'resize': 'fit',\n",
      "                                                       'w': 625},\n",
      "                                            'small': {'h': 588,\n",
      "                                                      'resize': 'fit',\n",
      "                                                      'w': 625},\n",
      "                                            'thumb': {'h': 150,\n",
      "                                                      'resize': 'crop',\n",
      "                                                      'w': 150}},\n",
      "                                  'type': 'photo',\n",
      "                                  'url': 'https://t.co/73xF4NYrxq'}]},\n",
      " 'favorite_count': 0,\n",
      " 'favorited': False,\n",
      " 'full_text': 'By @ObservadorUY App más populares durante la pandemia . '\n",
      "              '#COVID19Uruguay https://t.co/73xF4NYrxq',\n",
      " 'geo': None,\n",
      " 'id': 1247889340606234628,\n",
      " 'id_str': '1247889340606234628',\n",
      " 'in_reply_to_screen_name': None,\n",
      " 'in_reply_to_status_id': None,\n",
      " 'in_reply_to_status_id_str': None,\n",
      " 'in_reply_to_user_id': None,\n",
      " 'in_reply_to_user_id_str': None,\n",
      " 'is_quote_status': False,\n",
      " 'lang': 'es',\n",
      " 'metadata': {'iso_language_code': 'es', 'result_type': 'recent'},\n",
      " 'place': None,\n",
      " 'possibly_sensitive': False,\n",
      " 'retweet_count': 0,\n",
      " 'retweeted': False,\n",
      " 'source': '<a href=\"https://mobile.twitter.com\" rel=\"nofollow\">Twitter Web '\n",
      "           'App</a>',\n",
      " 'truncated': False,\n",
      " 'user': {'contributors_enabled': False,\n",
      "          'created_at': 'Mon Jul 05 20:13:19 +0000 2010',\n",
      "          'default_profile': False,\n",
      "          'default_profile_image': False,\n",
      "          'description': 'Sapere Aude🙌 Abogada. Mag RSE Docente @ucudal',\n",
      "          'entities': {'description': {'urls': []},\n",
      "                       'url': {'urls': [{'display_url': 'ucu.edu.uy',\n",
      "                                         'expanded_url': 'http://www.ucu.edu.uy',\n",
      "                                         'indices': [0, 23],\n",
      "                                         'url': 'https://t.co/48rOzzeIkp'}]}},\n",
      "          'favourites_count': 33197,\n",
      "          'follow_request_sent': False,\n",
      "          'followers_count': 972,\n",
      "          'following': False,\n",
      "          'friends_count': 1852,\n",
      "          'geo_enabled': True,\n",
      "          'has_extended_profile': False,\n",
      "          'id': 163198473,\n",
      "          'id_str': '163198473',\n",
      "          'is_translation_enabled': False,\n",
      "          'is_translator': False,\n",
      "          'lang': None,\n",
      "          'listed_count': 28,\n",
      "          'location': 'Montevideo,Uruguay',\n",
      "          'name': 'veronica grauert',\n",
      "          'notifications': False,\n",
      "          'profile_background_color': '000000',\n",
      "          'profile_background_image_url': 'http://abs.twimg.com/images/themes/theme16/bg.gif',\n",
      "          'profile_background_image_url_https': 'https://abs.twimg.com/images/themes/theme16/bg.gif',\n",
      "          'profile_background_tile': False,\n",
      "          'profile_banner_url': 'https://pbs.twimg.com/profile_banners/163198473/1351300081',\n",
      "          'profile_image_url': 'http://pbs.twimg.com/profile_images/1155622930900017152/DZCl4BD9_normal.jpg',\n",
      "          'profile_image_url_https': 'https://pbs.twimg.com/profile_images/1155622930900017152/DZCl4BD9_normal.jpg',\n",
      "          'profile_link_color': 'FF691F',\n",
      "          'profile_sidebar_border_color': '000000',\n",
      "          'profile_sidebar_fill_color': '000000',\n",
      "          'profile_text_color': '000000',\n",
      "          'profile_use_background_image': False,\n",
      "          'protected': False,\n",
      "          'screen_name': 'verograuert',\n",
      "          'statuses_count': 7627,\n",
      "          'time_zone': None,\n",
      "          'translator_type': 'none',\n",
      "          'url': 'https://t.co/48rOzzeIkp',\n",
      "          'utc_offset': None,\n",
      "          'verified': False}}\n"
     ]
    }
   ],
   "source": [
    "idx = 1\n",
    "pprint(tweets[idx])"
   ]
  },
  {
   "cell_type": "code",
   "execution_count": 250,
   "metadata": {},
   "outputs": [
    {
     "data": {
      "text/plain": [
       "1663"
      ]
     },
     "execution_count": 250,
     "metadata": {},
     "output_type": "execute_result"
    }
   ],
   "source": [
    "len(tweets)"
   ]
  },
  {
   "cell_type": "code",
   "execution_count": 251,
   "metadata": {},
   "outputs": [],
   "source": []
  },
  {
   "cell_type": "markdown",
   "metadata": {},
   "source": [
    "# Home timeline"
   ]
  },
  {
   "cell_type": "code",
   "execution_count": 124,
   "metadata": {},
   "outputs": [],
   "source": [
    "public_tweets = api.home_timeline()\n",
    "for tweet in public_tweets:\n",
    "    print(tweet.text)"
   ]
  },
  {
   "cell_type": "markdown",
   "metadata": {},
   "source": [
    "# Search by users"
   ]
  },
  {
   "cell_type": "code",
   "execution_count": 45,
   "metadata": {},
   "outputs": [
    {
     "name": "stdout",
     "output_type": "stream",
     "text": [
      "RT @n_fornasari: Good news for #Jupyter users.\n",
      "\n",
      "@ProjectJupyter released the first version of the Jupyter Visual Debugger 🐞\n",
      "\n",
      "Announcement a…\n",
      "@JaviUrrestarazu @ChavoCanepa @JuanXXIIIU @n_fornasari Jajaja es como el chino Peralta, lleno de condiciones pero le encantaba la noche\n",
      "@Nachomieres19 @ChavoCanepa @JuanXXIIIU Yo el que más disfruté y sufrí al mismo tiempo (jugando en mi equipo) fue @n_fornasari\n",
      "RT @n_fornasari: Fuga de capitales de Mercados Emergentes se aceleró a notoriamente en marzo y supera ampliamente crisis 2008. \n",
      "El punto de…\n",
      "@n_fornasari Si. Igualmente.... https://t.co/82eeHX2enw\n",
      "@n_fornasari Hay que ver si ese tweet se transforma en hechos o es una más del ex conductor de The apprentice\n",
      "Desde hace algunas semanas @n_fornasari está compartiendo muy buena información de economía internacional. Recomien… https://t.co/qmuTJGqysU\n",
      "RT @n_fornasari: Cause &amp; Effect \n",
      "\n",
      "#wti #brent #crudeoil https://t.co/SmVUGrftVO\n"
     ]
    }
   ],
   "source": [
    "friend = '@n_fornasari'\n",
    "for tweet in tweepy.Cursor(api.search, q=friend).items(10):\n",
    "    print(tweet.text)\n"
   ]
  }
 ],
 "metadata": {
  "kernelspec": {
   "display_name": "Python 3",
   "language": "python",
   "name": "python3"
  },
  "language_info": {
   "codemirror_mode": {
    "name": "ipython",
    "version": 3
   },
   "file_extension": ".py",
   "mimetype": "text/x-python",
   "name": "python",
   "nbconvert_exporter": "python",
   "pygments_lexer": "ipython3",
   "version": "3.6.8"
  },
  "toc": {
   "base_numbering": 1,
   "nav_menu": {},
   "number_sections": true,
   "sideBar": true,
   "skip_h1_title": false,
   "title_cell": "Table of Contents",
   "title_sidebar": "Contents",
   "toc_cell": false,
   "toc_position": {},
   "toc_section_display": true,
   "toc_window_display": false
  },
  "varInspector": {
   "cols": {
    "lenName": 16,
    "lenType": 16,
    "lenVar": 40
   },
   "kernels_config": {
    "python": {
     "delete_cmd_postfix": "",
     "delete_cmd_prefix": "del ",
     "library": "var_list.py",
     "varRefreshCmd": "print(var_dic_list())"
    },
    "r": {
     "delete_cmd_postfix": ") ",
     "delete_cmd_prefix": "rm(",
     "library": "var_list.r",
     "varRefreshCmd": "cat(var_dic_list()) "
    }
   },
   "types_to_exclude": [
    "module",
    "function",
    "builtin_function_or_method",
    "instance",
    "_Feature"
   ],
   "window_display": false
  }
 },
 "nbformat": 4,
 "nbformat_minor": 2
}
