{
 "cells": [
  {
   "cell_type": "code",
   "execution_count": 2,
   "metadata": {},
   "outputs": [],
   "source": [
    "import json \n",
    "import twitter"
   ]
  },
  {
   "cell_type": "code",
   "execution_count": 5,
   "metadata": {},
   "outputs": [],
   "source": [
    "with open('../credentials/twitter_credentials.json') as f:\n",
    "    credentials = json.load(f)"
   ]
  },
  {
   "cell_type": "code",
   "execution_count": 7,
   "metadata": {},
   "outputs": [
    {
     "name": "stdout",
     "output_type": "stream",
     "text": [
      "<twitter.api.Twitter object at 0x7f39bc8c8390>\n"
     ]
    }
   ],
   "source": [
    "auth = twitter.oauth.OAuth(**credentials)\n",
    "twitter_api = twitter.Twitter(auth=auth)"
   ]
  },
  {
   "cell_type": "code",
   "execution_count": 11,
   "metadata": {
    "collapsed": true
   },
   "outputs": [
    {
     "ename": "TwitterHTTPError",
     "evalue": "Twitter sent status 404 for URL: 1.1/trends/place.json using parameters: (id=23424979&oauth_consumer_key=sSc88iLoTfTgmBWBhV9duyQH7&oauth_nonce=3511312295360293345&oauth_signature_method=HMAC-SHA1&oauth_timestamp=1586273176&oauth_token=179245655-2v389h35Rboy7rknKkolniSlHxdsvTK7zlYnT1bf&oauth_version=1.0&oauth_signature=lzt%2B3lyBSa4FEJDH6cIR5S4YD54%3D)\ndetails: {'errors': [{'code': 34, 'message': 'Sorry, that page does not exist.'}]}",
     "output_type": "error",
     "traceback": [
      "\u001b[0;31m---------------------------------------------------------------------------\u001b[0m",
      "\u001b[0;31mHTTPError\u001b[0m                                 Traceback (most recent call last)",
      "\u001b[0;32m~/software/houses-project/venv/lib/python3.6/site-packages/twitter/api.py\u001b[0m in \u001b[0;36m_handle_response\u001b[0;34m(self, req, uri, arg_data, _timeout)\u001b[0m\n\u001b[1;32m    340\u001b[0m         \u001b[0;32mtry\u001b[0m\u001b[0;34m:\u001b[0m\u001b[0;34m\u001b[0m\u001b[0;34m\u001b[0m\u001b[0m\n\u001b[0;32m--> 341\u001b[0;31m             \u001b[0mhandle\u001b[0m \u001b[0;34m=\u001b[0m \u001b[0murllib_request\u001b[0m\u001b[0;34m.\u001b[0m\u001b[0murlopen\u001b[0m\u001b[0;34m(\u001b[0m\u001b[0mreq\u001b[0m\u001b[0;34m,\u001b[0m \u001b[0;34m**\u001b[0m\u001b[0mkwargs\u001b[0m\u001b[0;34m)\u001b[0m\u001b[0;34m\u001b[0m\u001b[0;34m\u001b[0m\u001b[0m\n\u001b[0m\u001b[1;32m    342\u001b[0m             \u001b[0;32mif\u001b[0m \u001b[0mhandle\u001b[0m\u001b[0;34m.\u001b[0m\u001b[0mheaders\u001b[0m\u001b[0;34m[\u001b[0m\u001b[0;34m'Content-Type'\u001b[0m\u001b[0;34m]\u001b[0m \u001b[0;32min\u001b[0m \u001b[0;34m[\u001b[0m\u001b[0;34m'image/jpeg'\u001b[0m\u001b[0;34m,\u001b[0m \u001b[0;34m'image/png'\u001b[0m\u001b[0;34m]\u001b[0m\u001b[0;34m:\u001b[0m\u001b[0;34m\u001b[0m\u001b[0;34m\u001b[0m\u001b[0m\n",
      "\u001b[0;32m/usr/lib/python3.6/urllib/request.py\u001b[0m in \u001b[0;36murlopen\u001b[0;34m(url, data, timeout, cafile, capath, cadefault, context)\u001b[0m\n\u001b[1;32m    222\u001b[0m         \u001b[0mopener\u001b[0m \u001b[0;34m=\u001b[0m \u001b[0m_opener\u001b[0m\u001b[0;34m\u001b[0m\u001b[0;34m\u001b[0m\u001b[0m\n\u001b[0;32m--> 223\u001b[0;31m     \u001b[0;32mreturn\u001b[0m \u001b[0mopener\u001b[0m\u001b[0;34m.\u001b[0m\u001b[0mopen\u001b[0m\u001b[0;34m(\u001b[0m\u001b[0murl\u001b[0m\u001b[0;34m,\u001b[0m \u001b[0mdata\u001b[0m\u001b[0;34m,\u001b[0m \u001b[0mtimeout\u001b[0m\u001b[0;34m)\u001b[0m\u001b[0;34m\u001b[0m\u001b[0;34m\u001b[0m\u001b[0m\n\u001b[0m\u001b[1;32m    224\u001b[0m \u001b[0;34m\u001b[0m\u001b[0m\n",
      "\u001b[0;32m/usr/lib/python3.6/urllib/request.py\u001b[0m in \u001b[0;36mopen\u001b[0;34m(self, fullurl, data, timeout)\u001b[0m\n\u001b[1;32m    531\u001b[0m             \u001b[0mmeth\u001b[0m \u001b[0;34m=\u001b[0m \u001b[0mgetattr\u001b[0m\u001b[0;34m(\u001b[0m\u001b[0mprocessor\u001b[0m\u001b[0;34m,\u001b[0m \u001b[0mmeth_name\u001b[0m\u001b[0;34m)\u001b[0m\u001b[0;34m\u001b[0m\u001b[0;34m\u001b[0m\u001b[0m\n\u001b[0;32m--> 532\u001b[0;31m             \u001b[0mresponse\u001b[0m \u001b[0;34m=\u001b[0m \u001b[0mmeth\u001b[0m\u001b[0;34m(\u001b[0m\u001b[0mreq\u001b[0m\u001b[0;34m,\u001b[0m \u001b[0mresponse\u001b[0m\u001b[0;34m)\u001b[0m\u001b[0;34m\u001b[0m\u001b[0;34m\u001b[0m\u001b[0m\n\u001b[0m\u001b[1;32m    533\u001b[0m \u001b[0;34m\u001b[0m\u001b[0m\n",
      "\u001b[0;32m/usr/lib/python3.6/urllib/request.py\u001b[0m in \u001b[0;36mhttp_response\u001b[0;34m(self, request, response)\u001b[0m\n\u001b[1;32m    641\u001b[0m             response = self.parent.error(\n\u001b[0;32m--> 642\u001b[0;31m                 'http', request, response, code, msg, hdrs)\n\u001b[0m\u001b[1;32m    643\u001b[0m \u001b[0;34m\u001b[0m\u001b[0m\n",
      "\u001b[0;32m/usr/lib/python3.6/urllib/request.py\u001b[0m in \u001b[0;36merror\u001b[0;34m(self, proto, *args)\u001b[0m\n\u001b[1;32m    569\u001b[0m             \u001b[0margs\u001b[0m \u001b[0;34m=\u001b[0m \u001b[0;34m(\u001b[0m\u001b[0mdict\u001b[0m\u001b[0;34m,\u001b[0m \u001b[0;34m'default'\u001b[0m\u001b[0;34m,\u001b[0m \u001b[0;34m'http_error_default'\u001b[0m\u001b[0;34m)\u001b[0m \u001b[0;34m+\u001b[0m \u001b[0morig_args\u001b[0m\u001b[0;34m\u001b[0m\u001b[0;34m\u001b[0m\u001b[0m\n\u001b[0;32m--> 570\u001b[0;31m             \u001b[0;32mreturn\u001b[0m \u001b[0mself\u001b[0m\u001b[0;34m.\u001b[0m\u001b[0m_call_chain\u001b[0m\u001b[0;34m(\u001b[0m\u001b[0;34m*\u001b[0m\u001b[0margs\u001b[0m\u001b[0;34m)\u001b[0m\u001b[0;34m\u001b[0m\u001b[0;34m\u001b[0m\u001b[0m\n\u001b[0m\u001b[1;32m    571\u001b[0m \u001b[0;34m\u001b[0m\u001b[0m\n",
      "\u001b[0;32m/usr/lib/python3.6/urllib/request.py\u001b[0m in \u001b[0;36m_call_chain\u001b[0;34m(self, chain, kind, meth_name, *args)\u001b[0m\n\u001b[1;32m    503\u001b[0m             \u001b[0mfunc\u001b[0m \u001b[0;34m=\u001b[0m \u001b[0mgetattr\u001b[0m\u001b[0;34m(\u001b[0m\u001b[0mhandler\u001b[0m\u001b[0;34m,\u001b[0m \u001b[0mmeth_name\u001b[0m\u001b[0;34m)\u001b[0m\u001b[0;34m\u001b[0m\u001b[0;34m\u001b[0m\u001b[0m\n\u001b[0;32m--> 504\u001b[0;31m             \u001b[0mresult\u001b[0m \u001b[0;34m=\u001b[0m \u001b[0mfunc\u001b[0m\u001b[0;34m(\u001b[0m\u001b[0;34m*\u001b[0m\u001b[0margs\u001b[0m\u001b[0;34m)\u001b[0m\u001b[0;34m\u001b[0m\u001b[0;34m\u001b[0m\u001b[0m\n\u001b[0m\u001b[1;32m    505\u001b[0m             \u001b[0;32mif\u001b[0m \u001b[0mresult\u001b[0m \u001b[0;32mis\u001b[0m \u001b[0;32mnot\u001b[0m \u001b[0;32mNone\u001b[0m\u001b[0;34m:\u001b[0m\u001b[0;34m\u001b[0m\u001b[0;34m\u001b[0m\u001b[0m\n",
      "\u001b[0;32m/usr/lib/python3.6/urllib/request.py\u001b[0m in \u001b[0;36mhttp_error_default\u001b[0;34m(self, req, fp, code, msg, hdrs)\u001b[0m\n\u001b[1;32m    649\u001b[0m     \u001b[0;32mdef\u001b[0m \u001b[0mhttp_error_default\u001b[0m\u001b[0;34m(\u001b[0m\u001b[0mself\u001b[0m\u001b[0;34m,\u001b[0m \u001b[0mreq\u001b[0m\u001b[0;34m,\u001b[0m \u001b[0mfp\u001b[0m\u001b[0;34m,\u001b[0m \u001b[0mcode\u001b[0m\u001b[0;34m,\u001b[0m \u001b[0mmsg\u001b[0m\u001b[0;34m,\u001b[0m \u001b[0mhdrs\u001b[0m\u001b[0;34m)\u001b[0m\u001b[0;34m:\u001b[0m\u001b[0;34m\u001b[0m\u001b[0;34m\u001b[0m\u001b[0m\n\u001b[0;32m--> 650\u001b[0;31m         \u001b[0;32mraise\u001b[0m \u001b[0mHTTPError\u001b[0m\u001b[0;34m(\u001b[0m\u001b[0mreq\u001b[0m\u001b[0;34m.\u001b[0m\u001b[0mfull_url\u001b[0m\u001b[0;34m,\u001b[0m \u001b[0mcode\u001b[0m\u001b[0;34m,\u001b[0m \u001b[0mmsg\u001b[0m\u001b[0;34m,\u001b[0m \u001b[0mhdrs\u001b[0m\u001b[0;34m,\u001b[0m \u001b[0mfp\u001b[0m\u001b[0;34m)\u001b[0m\u001b[0;34m\u001b[0m\u001b[0;34m\u001b[0m\u001b[0m\n\u001b[0m\u001b[1;32m    651\u001b[0m \u001b[0;34m\u001b[0m\u001b[0m\n",
      "\u001b[0;31mHTTPError\u001b[0m: HTTP Error 404: Not Found",
      "\nDuring handling of the above exception, another exception occurred:\n",
      "\u001b[0;31mTwitterHTTPError\u001b[0m                          Traceback (most recent call last)",
      "\u001b[0;32m<ipython-input-11-85b3b180872a>\u001b[0m in \u001b[0;36m<module>\u001b[0;34m\u001b[0m\n\u001b[1;32m      5\u001b[0m \u001b[0;31m# to the URL itself as a special case keyword argument.\u001b[0m\u001b[0;34m\u001b[0m\u001b[0;34m\u001b[0m\u001b[0;34m\u001b[0m\u001b[0m\n\u001b[1;32m      6\u001b[0m \u001b[0;34m\u001b[0m\u001b[0m\n\u001b[0;32m----> 7\u001b[0;31m \u001b[0mworld_trends\u001b[0m \u001b[0;34m=\u001b[0m \u001b[0mtwitter_api\u001b[0m\u001b[0;34m.\u001b[0m\u001b[0mtrends\u001b[0m\u001b[0;34m.\u001b[0m\u001b[0mplace\u001b[0m\u001b[0;34m(\u001b[0m\u001b[0m_id\u001b[0m\u001b[0;34m=\u001b[0m\u001b[0mLOCAL_WOE_ID\u001b[0m\u001b[0;34m)\u001b[0m\u001b[0;34m\u001b[0m\u001b[0;34m\u001b[0m\u001b[0m\n\u001b[0m",
      "\u001b[0;32m~/software/houses-project/venv/lib/python3.6/site-packages/twitter/api.py\u001b[0m in \u001b[0;36m__call__\u001b[0;34m(self, **kwargs)\u001b[0m\n\u001b[1;32m    332\u001b[0m             \u001b[0;32mreturn\u001b[0m \u001b[0mself\u001b[0m\u001b[0;34m.\u001b[0m\u001b[0m_handle_response_with_retry\u001b[0m\u001b[0;34m(\u001b[0m\u001b[0mreq\u001b[0m\u001b[0;34m,\u001b[0m \u001b[0muri\u001b[0m\u001b[0;34m,\u001b[0m \u001b[0marg_data\u001b[0m\u001b[0;34m,\u001b[0m \u001b[0m_timeout\u001b[0m\u001b[0;34m)\u001b[0m\u001b[0;34m\u001b[0m\u001b[0;34m\u001b[0m\u001b[0m\n\u001b[1;32m    333\u001b[0m         \u001b[0;32melse\u001b[0m\u001b[0;34m:\u001b[0m\u001b[0;34m\u001b[0m\u001b[0;34m\u001b[0m\u001b[0m\n\u001b[0;32m--> 334\u001b[0;31m             \u001b[0;32mreturn\u001b[0m \u001b[0mself\u001b[0m\u001b[0;34m.\u001b[0m\u001b[0m_handle_response\u001b[0m\u001b[0;34m(\u001b[0m\u001b[0mreq\u001b[0m\u001b[0;34m,\u001b[0m \u001b[0muri\u001b[0m\u001b[0;34m,\u001b[0m \u001b[0marg_data\u001b[0m\u001b[0;34m,\u001b[0m \u001b[0m_timeout\u001b[0m\u001b[0;34m)\u001b[0m\u001b[0;34m\u001b[0m\u001b[0;34m\u001b[0m\u001b[0m\n\u001b[0m\u001b[1;32m    335\u001b[0m \u001b[0;34m\u001b[0m\u001b[0m\n\u001b[1;32m    336\u001b[0m     \u001b[0;32mdef\u001b[0m \u001b[0m_handle_response\u001b[0m\u001b[0;34m(\u001b[0m\u001b[0mself\u001b[0m\u001b[0;34m,\u001b[0m \u001b[0mreq\u001b[0m\u001b[0;34m,\u001b[0m \u001b[0muri\u001b[0m\u001b[0;34m,\u001b[0m \u001b[0marg_data\u001b[0m\u001b[0;34m,\u001b[0m \u001b[0m_timeout\u001b[0m\u001b[0;34m=\u001b[0m\u001b[0;32mNone\u001b[0m\u001b[0;34m)\u001b[0m\u001b[0;34m:\u001b[0m\u001b[0;34m\u001b[0m\u001b[0;34m\u001b[0m\u001b[0m\n",
      "\u001b[0;32m~/software/houses-project/venv/lib/python3.6/site-packages/twitter/api.py\u001b[0m in \u001b[0;36m_handle_response\u001b[0;34m(self, req, uri, arg_data, _timeout)\u001b[0m\n\u001b[1;32m    365\u001b[0m                 \u001b[0;32mreturn\u001b[0m \u001b[0;34m[\u001b[0m\u001b[0;34m]\u001b[0m\u001b[0;34m\u001b[0m\u001b[0;34m\u001b[0m\u001b[0m\n\u001b[1;32m    366\u001b[0m             \u001b[0;32melse\u001b[0m\u001b[0;34m:\u001b[0m\u001b[0;34m\u001b[0m\u001b[0;34m\u001b[0m\u001b[0m\n\u001b[0;32m--> 367\u001b[0;31m                 \u001b[0;32mraise\u001b[0m \u001b[0mTwitterHTTPError\u001b[0m\u001b[0;34m(\u001b[0m\u001b[0me\u001b[0m\u001b[0;34m,\u001b[0m \u001b[0muri\u001b[0m\u001b[0;34m,\u001b[0m \u001b[0mself\u001b[0m\u001b[0;34m.\u001b[0m\u001b[0mformat\u001b[0m\u001b[0;34m,\u001b[0m \u001b[0marg_data\u001b[0m\u001b[0;34m)\u001b[0m\u001b[0;34m\u001b[0m\u001b[0;34m\u001b[0m\u001b[0m\n\u001b[0m\u001b[1;32m    368\u001b[0m \u001b[0;34m\u001b[0m\u001b[0m\n\u001b[1;32m    369\u001b[0m     \u001b[0;32mdef\u001b[0m \u001b[0m_handle_response_with_retry\u001b[0m\u001b[0;34m(\u001b[0m\u001b[0mself\u001b[0m\u001b[0;34m,\u001b[0m \u001b[0mreq\u001b[0m\u001b[0;34m,\u001b[0m \u001b[0muri\u001b[0m\u001b[0;34m,\u001b[0m \u001b[0marg_data\u001b[0m\u001b[0;34m,\u001b[0m \u001b[0m_timeout\u001b[0m\u001b[0;34m=\u001b[0m\u001b[0;32mNone\u001b[0m\u001b[0;34m)\u001b[0m\u001b[0;34m:\u001b[0m\u001b[0;34m\u001b[0m\u001b[0;34m\u001b[0m\u001b[0m\n",
      "\u001b[0;31mTwitterHTTPError\u001b[0m: Twitter sent status 404 for URL: 1.1/trends/place.json using parameters: (id=23424979&oauth_consumer_key=sSc88iLoTfTgmBWBhV9duyQH7&oauth_nonce=3511312295360293345&oauth_signature_method=HMAC-SHA1&oauth_timestamp=1586273176&oauth_token=179245655-2v389h35Rboy7rknKkolniSlHxdsvTK7zlYnT1bf&oauth_version=1.0&oauth_signature=lzt%2B3lyBSa4FEJDH6cIR5S4YD54%3D)\ndetails: {'errors': [{'code': 34, 'message': 'Sorry, that page does not exist.'}]}"
     ]
    }
   ],
   "source": [
    "LOCAL_WOE_ID=23424979\n",
    "\n",
    "# Prefix ID with the underscore for query string parameterization.\n",
    "# Without the underscore, the twitter package appends the ID value\n",
    "# to the URL itself as a special case keyword argument.\n",
    "\n",
    "world_trends = twitter_api.trends.place(_id=LOCAL_WOE_ID)"
   ]
  },
  {
   "cell_type": "code",
   "execution_count": 12,
   "metadata": {},
   "outputs": [],
   "source": [
    "q = '#COVID19' \n",
    "\n",
    "number = 100\n",
    "\n",
    "# See https://dev.twitter.com/docs/api/1.1/get/search/tweets\n",
    "\n",
    "search_results = twitter_api.search.tweets(q=q, count=number)\n",
    "\n",
    "statuses = search_results['statuses']"
   ]
  },
  {
   "cell_type": "code",
   "execution_count": 17,
   "metadata": {},
   "outputs": [
    {
     "data": {
      "text/plain": [
       "{'created_at': 'Tue Apr 07 15:30:46 +0000 2020',\n",
       " 'id': 1247547371019538432,\n",
       " 'id_str': '1247547371019538432',\n",
       " 'text': 'RT @PNUDRD: Todas las personas podemos ayudar a prevenir la propagación del #COVID19 #SinDejarANadieAtrás 👌\\n@unprpd @OPSOMSRD @UNICEFRD htt…',\n",
       " 'truncated': False,\n",
       " 'entities': {'hashtags': [{'text': 'COVID19', 'indices': [76, 84]},\n",
       "   {'text': 'SinDejarANadieAtrás', 'indices': [85, 105]}],\n",
       "  'symbols': [],\n",
       "  'user_mentions': [{'screen_name': 'PNUDRD',\n",
       "    'name': 'PNUD Rep. Dominicana',\n",
       "    'id': 193139845,\n",
       "    'id_str': '193139845',\n",
       "    'indices': [3, 10]},\n",
       "   {'screen_name': 'unprpd',\n",
       "    'name': 'UNPRPD',\n",
       "    'id': 1056929939797299201,\n",
       "    'id_str': '1056929939797299201',\n",
       "    'indices': [108, 115]},\n",
       "   {'screen_name': 'OPSOMSRD',\n",
       "    'name': 'OPS/OMS República Dominicana',\n",
       "    'id': 1171448566767767553,\n",
       "    'id_str': '1171448566767767553',\n",
       "    'indices': [116, 125]},\n",
       "   {'screen_name': 'UNICEFRD',\n",
       "    'name': 'UNICEF República Dominicana 🇩🇴',\n",
       "    'id': 171186301,\n",
       "    'id_str': '171186301',\n",
       "    'indices': [126, 135]}],\n",
       "  'urls': []},\n",
       " 'metadata': {'iso_language_code': 'es', 'result_type': 'recent'},\n",
       " 'source': '<a href=\"http://twitter.com/download/android\" rel=\"nofollow\">Twitter for Android</a>',\n",
       " 'in_reply_to_status_id': None,\n",
       " 'in_reply_to_status_id_str': None,\n",
       " 'in_reply_to_user_id': None,\n",
       " 'in_reply_to_user_id_str': None,\n",
       " 'in_reply_to_screen_name': None,\n",
       " 'user': {'id': 894637112586358784,\n",
       "  'id_str': '894637112586358784',\n",
       "  'name': 'Nature Power DR',\n",
       "  'screen_name': 'NaturePowerDR1',\n",
       "  'location': 'Dominican Republic',\n",
       "  'description': 'Trabajamos en República Dominicana y el Caribe facilitando el acceso al uso de energía eléctrica alternativa.  +1 809 770 2477   +1 809 224 1125',\n",
       "  'url': 'https://t.co/Fr1hrDon69',\n",
       "  'entities': {'url': {'urls': [{'url': 'https://t.co/Fr1hrDon69',\n",
       "      'expanded_url': 'http://naturepowerdr.org/',\n",
       "      'display_url': 'naturepowerdr.org',\n",
       "      'indices': [0, 23]}]},\n",
       "   'description': {'urls': []}},\n",
       "  'protected': False,\n",
       "  'followers_count': 150,\n",
       "  'friends_count': 310,\n",
       "  'listed_count': 1,\n",
       "  'created_at': 'Mon Aug 07 19:11:24 +0000 2017',\n",
       "  'favourites_count': 1195,\n",
       "  'utc_offset': None,\n",
       "  'time_zone': None,\n",
       "  'geo_enabled': True,\n",
       "  'verified': False,\n",
       "  'statuses_count': 470,\n",
       "  'lang': None,\n",
       "  'contributors_enabled': False,\n",
       "  'is_translator': False,\n",
       "  'is_translation_enabled': False,\n",
       "  'profile_background_color': 'F5F8FA',\n",
       "  'profile_background_image_url': None,\n",
       "  'profile_background_image_url_https': None,\n",
       "  'profile_background_tile': False,\n",
       "  'profile_image_url': 'http://pbs.twimg.com/profile_images/945662249120645120/nhLU-F1T_normal.jpg',\n",
       "  'profile_image_url_https': 'https://pbs.twimg.com/profile_images/945662249120645120/nhLU-F1T_normal.jpg',\n",
       "  'profile_banner_url': 'https://pbs.twimg.com/profile_banners/894637112586358784/1514298809',\n",
       "  'profile_link_color': '1DA1F2',\n",
       "  'profile_sidebar_border_color': 'C0DEED',\n",
       "  'profile_sidebar_fill_color': 'DDEEF6',\n",
       "  'profile_text_color': '333333',\n",
       "  'profile_use_background_image': True,\n",
       "  'has_extended_profile': False,\n",
       "  'default_profile': True,\n",
       "  'default_profile_image': False,\n",
       "  'following': False,\n",
       "  'follow_request_sent': False,\n",
       "  'notifications': False,\n",
       "  'translator_type': 'none'},\n",
       " 'geo': None,\n",
       " 'coordinates': None,\n",
       " 'place': None,\n",
       " 'contributors': None,\n",
       " 'retweeted_status': {'created_at': 'Mon Apr 06 18:04:00 +0000 2020',\n",
       "  'id': 1247223548168503298,\n",
       "  'id_str': '1247223548168503298',\n",
       "  'text': 'Todas las personas podemos ayudar a prevenir la propagación del #COVID19 #SinDejarANadieAtrás 👌\\n@unprpd @OPSOMSRD… https://t.co/c0KW5PAmDV',\n",
       "  'truncated': True,\n",
       "  'entities': {'hashtags': [{'text': 'COVID19', 'indices': [64, 72]},\n",
       "    {'text': 'SinDejarANadieAtrás', 'indices': [73, 93]}],\n",
       "   'symbols': [],\n",
       "   'user_mentions': [{'screen_name': 'unprpd',\n",
       "     'name': 'UNPRPD',\n",
       "     'id': 1056929939797299201,\n",
       "     'id_str': '1056929939797299201',\n",
       "     'indices': [96, 103]},\n",
       "    {'screen_name': 'OPSOMSRD',\n",
       "     'name': 'OPS/OMS República Dominicana',\n",
       "     'id': 1171448566767767553,\n",
       "     'id_str': '1171448566767767553',\n",
       "     'indices': [104, 113]}],\n",
       "   'urls': [{'url': 'https://t.co/c0KW5PAmDV',\n",
       "     'expanded_url': 'https://twitter.com/i/web/status/1247223548168503298',\n",
       "     'display_url': 'twitter.com/i/web/status/1…',\n",
       "     'indices': [115, 138]}]},\n",
       "  'metadata': {'iso_language_code': 'es', 'result_type': 'recent'},\n",
       "  'source': '<a href=\"https://mobile.twitter.com\" rel=\"nofollow\">Twitter Web App</a>',\n",
       "  'in_reply_to_status_id': None,\n",
       "  'in_reply_to_status_id_str': None,\n",
       "  'in_reply_to_user_id': None,\n",
       "  'in_reply_to_user_id_str': None,\n",
       "  'in_reply_to_screen_name': None,\n",
       "  'user': {'id': 193139845,\n",
       "   'id_str': '193139845',\n",
       "   'name': 'PNUD Rep. Dominicana',\n",
       "   'screen_name': 'PNUDRD',\n",
       "   'location': 'República Dominicana',\n",
       "   'description': 'Cuenta oficial del Programa de las Naciones Unidas para el Desarrollo en República Dominicana.',\n",
       "   'url': 'https://t.co/pXOkmY4HXd',\n",
       "   'entities': {'url': {'urls': [{'url': 'https://t.co/pXOkmY4HXd',\n",
       "       'expanded_url': 'http://do.undp.org',\n",
       "       'display_url': 'do.undp.org',\n",
       "       'indices': [0, 23]}]},\n",
       "    'description': {'urls': []}},\n",
       "   'protected': False,\n",
       "   'followers_count': 10150,\n",
       "   'friends_count': 704,\n",
       "   'listed_count': 152,\n",
       "   'created_at': 'Tue Sep 21 02:07:02 +0000 2010',\n",
       "   'favourites_count': 2701,\n",
       "   'utc_offset': None,\n",
       "   'time_zone': None,\n",
       "   'geo_enabled': True,\n",
       "   'verified': True,\n",
       "   'statuses_count': 3431,\n",
       "   'lang': None,\n",
       "   'contributors_enabled': False,\n",
       "   'is_translator': False,\n",
       "   'is_translation_enabled': False,\n",
       "   'profile_background_color': '394247',\n",
       "   'profile_background_image_url': 'http://abs.twimg.com/images/themes/theme1/bg.png',\n",
       "   'profile_background_image_url_https': 'https://abs.twimg.com/images/themes/theme1/bg.png',\n",
       "   'profile_background_tile': False,\n",
       "   'profile_image_url': 'http://pbs.twimg.com/profile_images/1246259458445062147/HOc1QfSl_normal.jpg',\n",
       "   'profile_image_url_https': 'https://pbs.twimg.com/profile_images/1246259458445062147/HOc1QfSl_normal.jpg',\n",
       "   'profile_banner_url': 'https://pbs.twimg.com/profile_banners/193139845/1580940839',\n",
       "   'profile_link_color': '0084B4',\n",
       "   'profile_sidebar_border_color': '000000',\n",
       "   'profile_sidebar_fill_color': 'DDEEF6',\n",
       "   'profile_text_color': '333333',\n",
       "   'profile_use_background_image': True,\n",
       "   'has_extended_profile': False,\n",
       "   'default_profile': False,\n",
       "   'default_profile_image': False,\n",
       "   'following': False,\n",
       "   'follow_request_sent': False,\n",
       "   'notifications': False,\n",
       "   'translator_type': 'none'},\n",
       "  'geo': None,\n",
       "  'coordinates': None,\n",
       "  'place': None,\n",
       "  'contributors': None,\n",
       "  'is_quote_status': False,\n",
       "  'retweet_count': 8,\n",
       "  'favorite_count': 15,\n",
       "  'favorited': False,\n",
       "  'retweeted': False,\n",
       "  'possibly_sensitive': False,\n",
       "  'lang': 'es'},\n",
       " 'is_quote_status': False,\n",
       " 'retweet_count': 8,\n",
       " 'favorite_count': 0,\n",
       " 'favorited': False,\n",
       " 'retweeted': False,\n",
       " 'lang': 'es'}"
      ]
     },
     "execution_count": 17,
     "metadata": {},
     "output_type": "execute_result"
    }
   ],
   "source": [
    "statuses[2]"
   ]
  },
  {
   "cell_type": "code",
   "execution_count": 39,
   "metadata": {},
   "outputs": [],
   "source": [
    "idx = 10"
   ]
  },
  {
   "cell_type": "code",
   "execution_count": 40,
   "metadata": {},
   "outputs": [
    {
     "data": {
      "text/plain": [
       "'RT @SNTE21: #SNTEsalud ⚕️\\n\\n🔴 Unidad ante la adversidad: México 🇲🇽 cuenta con sus maestros👩\\u200d🏫 médicos👨\\u200d⚕️ y sociedad🙋\\u200d♀️ANTE el #coronavirus…'"
      ]
     },
     "execution_count": 40,
     "metadata": {},
     "output_type": "execute_result"
    }
   ],
   "source": [
    "statuses[idx]['text']"
   ]
  },
  {
   "cell_type": "code",
   "execution_count": 41,
   "metadata": {},
   "outputs": [
    {
     "data": {
      "text/plain": [
       "{'hashtags': [{'text': 'SNTEsalud', 'indices': [12, 22]},\n",
       "  {'text': 'coronavirus', 'indices': [127, 139]}],\n",
       " 'symbols': [],\n",
       " 'user_mentions': [{'screen_name': 'SNTE21',\n",
       "   'name': 'SNTE21',\n",
       "   'id': 381912502,\n",
       "   'id_str': '381912502',\n",
       "   'indices': [3, 10]}],\n",
       " 'urls': []}"
      ]
     },
     "execution_count": 41,
     "metadata": {},
     "output_type": "execute_result"
    }
   ],
   "source": [
    "statuses[idx]['entities']"
   ]
  },
  {
   "cell_type": "code",
   "execution_count": 42,
   "metadata": {},
   "outputs": [
    {
     "data": {
      "text/plain": [
       "{'id': 1226627497804156929,\n",
       " 'id_str': '1226627497804156929',\n",
       " 'name': 'Omar Rolando Medina Martínez',\n",
       " 'screen_name': 'OmarRolandoMed1',\n",
       " 'location': '',\n",
       " 'description': '',\n",
       " 'url': None,\n",
       " 'entities': {'description': {'urls': []}},\n",
       " 'protected': False,\n",
       " 'followers_count': 2,\n",
       " 'friends_count': 10,\n",
       " 'listed_count': 0,\n",
       " 'created_at': 'Sun Feb 09 22:02:50 +0000 2020',\n",
       " 'favourites_count': 1,\n",
       " 'utc_offset': None,\n",
       " 'time_zone': None,\n",
       " 'geo_enabled': False,\n",
       " 'verified': False,\n",
       " 'statuses_count': 22,\n",
       " 'lang': None,\n",
       " 'contributors_enabled': False,\n",
       " 'is_translator': False,\n",
       " 'is_translation_enabled': False,\n",
       " 'profile_background_color': 'F5F8FA',\n",
       " 'profile_background_image_url': None,\n",
       " 'profile_background_image_url_https': None,\n",
       " 'profile_background_tile': False,\n",
       " 'profile_image_url': 'http://pbs.twimg.com/profile_images/1226627873814958080/Q3mgmAyH_normal.jpg',\n",
       " 'profile_image_url_https': 'https://pbs.twimg.com/profile_images/1226627873814958080/Q3mgmAyH_normal.jpg',\n",
       " 'profile_banner_url': 'https://pbs.twimg.com/profile_banners/1226627497804156929/1581386873',\n",
       " 'profile_link_color': '1DA1F2',\n",
       " 'profile_sidebar_border_color': 'C0DEED',\n",
       " 'profile_sidebar_fill_color': 'DDEEF6',\n",
       " 'profile_text_color': '333333',\n",
       " 'profile_use_background_image': True,\n",
       " 'has_extended_profile': False,\n",
       " 'default_profile': True,\n",
       " 'default_profile_image': False,\n",
       " 'following': False,\n",
       " 'follow_request_sent': False,\n",
       " 'notifications': False,\n",
       " 'translator_type': 'none'}"
      ]
     },
     "execution_count": 42,
     "metadata": {},
     "output_type": "execute_result"
    }
   ],
   "source": [
    "statuses[idx]['user']"
   ]
  },
  {
   "cell_type": "code",
   "execution_count": 22,
   "metadata": {},
   "outputs": [
    {
     "data": {
      "text/plain": [
       "'d0f5be1262dee9aa'"
      ]
     },
     "execution_count": 22,
     "metadata": {},
     "output_type": "execute_result"
    }
   ],
   "source": [
    "result = twitter_api.geo.search(query=\"URU\", granularity=\"country\")\n",
    "place_id = result['result']['places'][0]['id']\n",
    "place_id"
   ]
  },
  {
   "cell_type": "code",
   "execution_count": 32,
   "metadata": {},
   "outputs": [],
   "source": [
    "search_results = twitter_api.search.tweets(q=f\"place:{place_id}\", count=1_000_000)\n"
   ]
  },
  {
   "cell_type": "code",
   "execution_count": 33,
   "metadata": {},
   "outputs": [
    {
     "data": {
      "text/plain": [
       "2"
      ]
     },
     "execution_count": 33,
     "metadata": {},
     "output_type": "execute_result"
    }
   ],
   "source": [
    "len(search_results)"
   ]
  },
  {
   "cell_type": "code",
   "execution_count": 34,
   "metadata": {},
   "outputs": [
    {
     "name": "stdout",
     "output_type": "stream",
     "text": [
      "Montevideo | Soy yo en mi vida pasada https://t.co/DpSzIsrrTf\n",
      "Canelones | @AHS_hispanists Very jealous!! I’m not sure how many I’ll be able to fit in the suitcase home....\n",
      "Montevideo | https://t.co/4NFGZ72cpn\n",
      "Canelones | @stupidsuga @llpardoll @aguantedillom @loveisheII https://t.co/ceOiDYW6jM\n",
      "Maldonado | Cuídame, solo eso te digo, y pido\n",
      "Montevideo | Despegado 💥 🧤 \n",
      "@luismanotamejia https://t.co/5szrfYdG7m\n",
      "Canelones | @ConzeSofi Es porque estamos en cuarentini sino me levanto temprano siempre\n",
      "Rio Negro | Pone la del Cachila !!!! https://t.co/kFicAZ8m6c\n",
      "Montevideo | @VickyEizmendi Te extraño bebu\n",
      "Montevideo | @Mo23Kari @TelemundoUY @jnachoromero Por lo que dicen los trabajadores protocolos hay, el problema fue la decisión… https://t.co/Id8pUDIRn1\n",
      "Montevideo | @BERGEDIOSS @ElFreddieBolso @CorreaSimon_ @CAPLeon1891 Ya fui a la de Peñarol y me dijeron que acá es la UNICA que… https://t.co/MZO8ebEgat\n",
      "Montevideo | Send trifásicos.\n",
      "Montevideo | @estebanchino12 Como que?\n",
      "Canelones | Ella sonreía mientras lo enrolaba\n",
      "Maldonado | Los martes me pinta la nostalgia\n",
      "Maldonado | @JuanFMancebo Conozco de primera mano la situación y (como siempre desde hace mucho tiempo) como ha pasado con la t… https://t.co/WMJpW6dVIU\n",
      "Rio Negro | Estos días de cuarentena son fijos para tener bajones 🙄\n",
      "Montevideo | @InfoTricolor1 A verdad\n",
      "Montevideo | @amparoresiste27 LAS POLITICAS DEL GOBIERNO MULTICOLOR EN SEGURIDAD, SALUD Y ECONOMIA. https://t.co/OHM6T79nUM\n",
      "Montevideo | @diego1903903437 Bien ahí, vamo a jugar jejeje\n",
      "Montevideo | 💛💙🤝❤️🤍💙 https://t.co/RESU0KT8xu\n",
      "Montevideo | @leopoldosuescun De acuerdo contigo, con una salvedad, soy sociólogo, por tanto un científico, y no me angustia par… https://t.co/yY9YmLEUbm\n",
      "Montevideo | @yupiraf @patricialopez07 Ja jajajaja pero de las tóxicas que ni te dejan salir, cosas lindas(?\n",
      "Canelones | Quizá les parezca raro, pero el amor de mi vida es esta piba y si miro a futuro en todos mis planes la encuentro ♥️… https://t.co/hpKaUa3ji7\n",
      "Montevideo | ¡Seguimos recibiendo donaciones!\n",
      "•\n",
      "Contáctanos para combinar 📲\n",
      "Mathias: 094 474 451\n",
      "Jerónimo: 091 211 765\n",
      "Maite: 09… https://t.co/ipWKWKhLCc\n",
      "Maldonado | @JuanFMancebo @GavilanRuperto Lamento decirle que eso es lo que DEBERÍA pasar, pero conozco de primera mano la situ… https://t.co/HEo81TxZ2j\n",
      "Maldonado | Nubloso #Bienvenidoslosbuenos #delosotroscupolleno #añodelaratademetal #mequedoencasahacemil… https://t.co/Ksv6iTI37X\n",
      "Montevideo | La valeriana y el té de tilo juntos, jajajajjajajjaja. https://t.co/cYSe3KzEP8\n",
      "Rio Negro | Hamilton por haber sido novio de Nicole? LeBron por ser un Rey? Federer por ser Federer? ... Cristiano Ronaldo 💪 https://t.co/dWv9DlaoVN\n",
      "Montevideo | Jajajaja la última tapada fue la mejor pero no se ve nada https://t.co/r3OWbK7N9y\n",
      "Montevideo | O con cualquier otro ser humano también https://t.co/LAHx1S6iqZ\n",
      "Salto | @setchamendi @colegiomedicouy @FedeMachadoG @gustavocurbelo4 @SEmergencistas @glopezsecchi @RodrigoPerna3… https://t.co/lJH2kfkTmK\n",
      "Rivera | @PasesuruguayOK Diego Forlán Corazo\n",
      "Cristian Gabriel Rodríguez Barotti\n",
      "Florida | No saben lo que trillé el disco \"lo que te conté mientras te hacías la dormida\" de la oreja de Van Gogh cuando era… https://t.co/tRc3NYwZjV\n",
      "Soriano | Especial para las 🍊 bajo el 🌞\n",
      "Montevideo | Que estupidez no todas se depilan por eso yo me depilo porque sinceramente no me gusta tener pelos estoy en cuarent… https://t.co/Aerd1AV7AD\n",
      "Montevideo | El profesor ya sabía que venía el coronavirus y que estaríamos en plena cuarentena en abril de 2020\n",
      "Por eso el estr… https://t.co/AnNYc03JPO\n",
      "Canelones | Triste Noticia, falleció ex Edil Dptal  Don Dari Mendiondo ,  mis condolencias y un abrazo a su familia,  amigos y… https://t.co/oYTq67oNwa\n",
      "Montevideo | @__nausicaa Camus no haría jamás una reflexión así. En su libro sí deja claro que \"la peste\" sólo desencadena lo qu… https://t.co/60OTD1zrtC\n",
      "Soriano | Hablame de odio... https://t.co/uvtqnCfQwI\n",
      "Maldonado | Tengo miles de pruebas y 0 dudas\n",
      "Maldonado | Ojalá pueda cumplir la apuesta de anoche😬\n",
      "Maldonado | @gpamela_g Jajaj es la idea, que nunca se olviden de él 😉\n",
      "Montevideo | Mira una serie completa por cuarta vez en mi vida. Poco ortodoxa, en solo cuatro capítulos dijo mucho.\n",
      "Montevideo | @moniarquia @2023Vidal @Anaynieta\n",
      "Montevideo | @BERGEDIOSS @ElFreddieBolso @CorreaSimon_ @CAPLeon1891 Y yo nunca hablé con vos. Estas loca o sos gallina?\n",
      "Maldonado | @Sandra03443428 @SciutoDr OJO Sandra no dijeron q los 1000 sean en mvd. Los 4 gatos locos seran en mvd, pero seguro… https://t.co/vaYbgFvnuE\n",
      "Montevideo | Show yourself, i’m dying to meet you ❄️\n",
      "Canelones | @Tini_Bustamante Jejeje pues claro\n",
      "Montevideo | 😭🙏Dan realmente lástima!! https://t.co/OaQw6oHQNs\n",
      "Florida | @UgeAstesiano Ojalá\n",
      "Canelones | Tenía que venir el #coronavirus para poder dedicarme al puzzle. https://t.co/6ib5Ll8Yuz\n",
      "Rocha | Falta mucho para que vuelva el Fútbol ??? 😩\n",
      "Montevideo | @gsantos333 @Apple28Lady No se puede negar los orígenes ehhh? Bonita voz y precioso gesto: gente que suma❤️\n",
      "Lavalleja | Siiiii 😍😍😍 https://t.co/OvGU1ICkoN\n",
      "Canelones | me tapé hasta la cabeza y voy a mirar la serie, me parece un planazo\n",
      "Montevideo | No puedo creer que todos me esten mandando donas lpm jajajajaj voy a salir rodando en esta cuarentena 🤪\n",
      "Lavalleja | “No quiero pensar que tú eres como los demás, ya fue suficiente yo me quiero enamorar. No quiero otro idiota, que pierde las horas...”🎵🎶🎶\n",
      "Montevideo | Faltan dos días y pienso dormir todo el día\n",
      "Montevideo | @DelforGrillo @paddlesurfer23 Sí señor!\n",
      "Montevideo | Gremio del hospital Maciel salen por tv quejándose que no se practican los protocolos para Covid-19. \n",
      "¿ No son ello… https://t.co/IJDJhMapww\n",
      "Montevideo | Me dei conta q não estava realmente bem qd não consegui mandar um áudio para minha irmã por causa da falta de ar.\n",
      "Montevideo | @SC_ESPN Sin dudas @rogerfederer\n"
     ]
    }
   ],
   "source": [
    "for tweet in search_results['statuses']:\n",
    "    txt = tweet['text']\n",
    "    tweet_place = tweet['place']['name'] if tweet['place'] else \"Undefined place\"\n",
    "    print(f'{tweet_place} | {txt}')"
   ]
  },
  {
   "cell_type": "code",
   "execution_count": 35,
   "metadata": {},
   "outputs": [
    {
     "data": {
      "text/plain": [
       "{'created_at': 'Tue Apr 07 15:51:17 +0000 2020',\n",
       " 'id': 1247552536967610369,\n",
       " 'id_str': '1247552536967610369',\n",
       " 'text': '@SC_ESPN Sin dudas @rogerfederer',\n",
       " 'truncated': False,\n",
       " 'entities': {'hashtags': [],\n",
       "  'symbols': [],\n",
       "  'user_mentions': [{'screen_name': 'SC_ESPN',\n",
       "    'name': 'SportsCenter',\n",
       "    'id': 524531680,\n",
       "    'id_str': '524531680',\n",
       "    'indices': [0, 8]},\n",
       "   {'screen_name': 'rogerfederer',\n",
       "    'name': 'Roger Federer',\n",
       "    'id': 1337785291,\n",
       "    'id_str': '1337785291',\n",
       "    'indices': [19, 32]}],\n",
       "  'urls': []},\n",
       " 'metadata': {'iso_language_code': 'es', 'result_type': 'recent'},\n",
       " 'source': '<a href=\"http://twitter.com/download/iphone\" rel=\"nofollow\">Twitter for iPhone</a>',\n",
       " 'in_reply_to_status_id': 1247352510639194112,\n",
       " 'in_reply_to_status_id_str': '1247352510639194112',\n",
       " 'in_reply_to_user_id': 524531680,\n",
       " 'in_reply_to_user_id_str': '524531680',\n",
       " 'in_reply_to_screen_name': 'SC_ESPN',\n",
       " 'user': {'id': 155647092,\n",
       "  'id_str': '155647092',\n",
       "  'name': 'Mauro Cabrera',\n",
       "  'screen_name': 'Maureey10',\n",
       "  'location': 'Montevideo, Uruguay',\n",
       "  'description': 'El cielo es el limite...#10 ⚽ Club Nacional de Football #115586🔵🔴⚪ Brazo Oriental',\n",
       "  'url': None,\n",
       "  'entities': {'description': {'urls': []}},\n",
       "  'protected': False,\n",
       "  'followers_count': 413,\n",
       "  'friends_count': 301,\n",
       "  'listed_count': 8,\n",
       "  'created_at': 'Mon Jun 14 18:27:21 +0000 2010',\n",
       "  'favourites_count': 12595,\n",
       "  'utc_offset': None,\n",
       "  'time_zone': None,\n",
       "  'geo_enabled': True,\n",
       "  'verified': False,\n",
       "  'statuses_count': 18895,\n",
       "  'lang': None,\n",
       "  'contributors_enabled': False,\n",
       "  'is_translator': False,\n",
       "  'is_translation_enabled': False,\n",
       "  'profile_background_color': '7FC418',\n",
       "  'profile_background_image_url': 'http://abs.twimg.com/images/themes/theme1/bg.png',\n",
       "  'profile_background_image_url_https': 'https://abs.twimg.com/images/themes/theme1/bg.png',\n",
       "  'profile_background_tile': False,\n",
       "  'profile_image_url': 'http://pbs.twimg.com/profile_images/1100871807836467200/E80zPIMC_normal.jpg',\n",
       "  'profile_image_url_https': 'https://pbs.twimg.com/profile_images/1100871807836467200/E80zPIMC_normal.jpg',\n",
       "  'profile_banner_url': 'https://pbs.twimg.com/profile_banners/155647092/1460375298',\n",
       "  'profile_link_color': '0A0A01',\n",
       "  'profile_sidebar_border_color': '000000',\n",
       "  'profile_sidebar_fill_color': '28BF38',\n",
       "  'profile_text_color': '0E5E1F',\n",
       "  'profile_use_background_image': True,\n",
       "  'has_extended_profile': True,\n",
       "  'default_profile': False,\n",
       "  'default_profile_image': False,\n",
       "  'following': False,\n",
       "  'follow_request_sent': False,\n",
       "  'notifications': False,\n",
       "  'translator_type': 'none'},\n",
       " 'geo': None,\n",
       " 'coordinates': None,\n",
       " 'place': {'id': '01a9dbb9232f0fac',\n",
       "  'url': 'https://api.twitter.com/1.1/geo/id/01a9dbb9232f0fac.json',\n",
       "  'place_type': 'admin',\n",
       "  'name': 'Montevideo',\n",
       "  'full_name': 'Montevideo, Uruguay',\n",
       "  'country_code': 'UY',\n",
       "  'country': 'Uruguay',\n",
       "  'contained_within': [],\n",
       "  'bounding_box': {'type': 'Polygon',\n",
       "   'coordinates': [[[-56.430439, -34.937896],\n",
       "     [-56.029341, -34.937896],\n",
       "     [-56.029341, -34.701599],\n",
       "     [-56.430439, -34.701599]]]},\n",
       "  'attributes': {}},\n",
       " 'contributors': None,\n",
       " 'is_quote_status': False,\n",
       " 'retweet_count': 0,\n",
       " 'favorite_count': 0,\n",
       " 'favorited': False,\n",
       " 'retweeted': False,\n",
       " 'lang': 'es'}"
      ]
     },
     "execution_count": 35,
     "metadata": {},
     "output_type": "execute_result"
    }
   ],
   "source": [
    "tweet"
   ]
  },
  {
   "cell_type": "markdown",
   "metadata": {},
   "source": []
  }
 ],
 "metadata": {
  "kernelspec": {
   "display_name": "Python 3",
   "language": "python",
   "name": "python3"
  },
  "language_info": {
   "codemirror_mode": {
    "name": "ipython",
    "version": 3
   },
   "file_extension": ".py",
   "mimetype": "text/x-python",
   "name": "python",
   "nbconvert_exporter": "python",
   "pygments_lexer": "ipython3",
   "version": "3.6.8"
  },
  "toc": {
   "base_numbering": 1,
   "nav_menu": {},
   "number_sections": true,
   "sideBar": true,
   "skip_h1_title": false,
   "title_cell": "Table of Contents",
   "title_sidebar": "Contents",
   "toc_cell": false,
   "toc_position": {},
   "toc_section_display": true,
   "toc_window_display": false
  },
  "varInspector": {
   "cols": {
    "lenName": 16,
    "lenType": 16,
    "lenVar": 40
   },
   "kernels_config": {
    "python": {
     "delete_cmd_postfix": "",
     "delete_cmd_prefix": "del ",
     "library": "var_list.py",
     "varRefreshCmd": "print(var_dic_list())"
    },
    "r": {
     "delete_cmd_postfix": ") ",
     "delete_cmd_prefix": "rm(",
     "library": "var_list.r",
     "varRefreshCmd": "cat(var_dic_list()) "
    }
   },
   "types_to_exclude": [
    "module",
    "function",
    "builtin_function_or_method",
    "instance",
    "_Feature"
   ],
   "window_display": false
  }
 },
 "nbformat": 4,
 "nbformat_minor": 2
}
