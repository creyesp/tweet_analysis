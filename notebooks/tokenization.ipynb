{
 "cells": [
  {
   "cell_type": "code",
   "execution_count": 3,
   "metadata": {},
   "outputs": [],
   "source": [
    "import json \n",
    "\n",
    "import spacy"
   ]
  },
  {
   "cell_type": "code",
   "execution_count": 5,
   "metadata": {},
   "outputs": [],
   "source": [
    "with open('../data/uy_tweets_2020-04-07T21:07:38.850727.json') as f:\n",
    "    dataset = json.load(f)"
   ]
  },
  {
   "cell_type": "code",
   "execution_count": 2,
   "metadata": {},
   "outputs": [],
   "source": [
    "nlp = spacy.load('es_core_news_sm')"
   ]
  },
  {
   "cell_type": "code",
   "execution_count": 9,
   "metadata": {},
   "outputs": [
    {
     "data": {
      "text/plain": [
       "'RT @AFPespanol: #ÚLTIMAHORA Primer día sin muertes por coronavirus en China desde comienzo de la epidemia de #COVID19 #AFP https://t.co/srv…'"
      ]
     },
     "execution_count": 9,
     "metadata": {},
     "output_type": "execute_result"
    }
   ],
   "source": [
    "tweet = dataset[0]['text']\n",
    "tweet"
   ]
  },
  {
   "cell_type": "code",
   "execution_count": 11,
   "metadata": {},
   "outputs": [],
   "source": [
    "doc = nlp(tweet)"
   ]
  },
  {
   "cell_type": "code",
   "execution_count": 12,
   "metadata": {},
   "outputs": [
    {
     "data": {
      "text/plain": [
       "['RT',\n",
       " '@AFPespanol',\n",
       " ':',\n",
       " '#',\n",
       " 'ÚLTIMAHORA',\n",
       " 'Primer',\n",
       " 'día',\n",
       " 'sin',\n",
       " 'muertes',\n",
       " 'por',\n",
       " 'coronavirus',\n",
       " 'en',\n",
       " 'China',\n",
       " 'desde',\n",
       " 'comienzo',\n",
       " 'de',\n",
       " 'la',\n",
       " 'epidemia',\n",
       " 'de',\n",
       " '#',\n",
       " 'COVID19',\n",
       " '#',\n",
       " 'AFP',\n",
       " 'https://t.co/srv',\n",
       " '…']"
      ]
     },
     "execution_count": 12,
     "metadata": {},
     "output_type": "execute_result"
    }
   ],
   "source": [
    "[k.text for k in doc]"
   ]
  },
  {
   "cell_type": "code",
   "execution_count": 14,
   "metadata": {},
   "outputs": [
    {
     "data": {
      "text/plain": [
       "['RT',\n",
       " '@AFPespanol',\n",
       " ':',\n",
       " '#',\n",
       " 'ÚLTIMAHORA',\n",
       " 'Primer',\n",
       " 'día',\n",
       " 'sin',\n",
       " 'muerte',\n",
       " 'por',\n",
       " 'coronavirus',\n",
       " 'en',\n",
       " 'China',\n",
       " 'desde',\n",
       " 'comenzar',\n",
       " 'de',\n",
       " 'lo',\n",
       " 'epidemia',\n",
       " 'de',\n",
       " '#',\n",
       " 'COVID19',\n",
       " '#',\n",
       " 'AFP',\n",
       " 'https://t.co/srv',\n",
       " '…']"
      ]
     },
     "execution_count": 14,
     "metadata": {},
     "output_type": "execute_result"
    }
   ],
   "source": [
    "[k.lemma_ for k in doc]"
   ]
  }
 ],
 "metadata": {
  "kernelspec": {
   "display_name": "Python 3",
   "language": "python",
   "name": "python3"
  },
  "language_info": {
   "codemirror_mode": {
    "name": "ipython",
    "version": 3
   },
   "file_extension": ".py",
   "mimetype": "text/x-python",
   "name": "python",
   "nbconvert_exporter": "python",
   "pygments_lexer": "ipython3",
   "version": "3.6.8"
  },
  "toc": {
   "base_numbering": 1,
   "nav_menu": {},
   "number_sections": true,
   "sideBar": true,
   "skip_h1_title": false,
   "title_cell": "Table of Contents",
   "title_sidebar": "Contents",
   "toc_cell": false,
   "toc_position": {},
   "toc_section_display": true,
   "toc_window_display": false
  },
  "varInspector": {
   "cols": {
    "lenName": 16,
    "lenType": 16,
    "lenVar": 40
   },
   "kernels_config": {
    "python": {
     "delete_cmd_postfix": "",
     "delete_cmd_prefix": "del ",
     "library": "var_list.py",
     "varRefreshCmd": "print(var_dic_list())"
    },
    "r": {
     "delete_cmd_postfix": ") ",
     "delete_cmd_prefix": "rm(",
     "library": "var_list.r",
     "varRefreshCmd": "cat(var_dic_list()) "
    }
   },
   "types_to_exclude": [
    "module",
    "function",
    "builtin_function_or_method",
    "instance",
    "_Feature"
   ],
   "window_display": false
  }
 },
 "nbformat": 4,
 "nbformat_minor": 2
}
