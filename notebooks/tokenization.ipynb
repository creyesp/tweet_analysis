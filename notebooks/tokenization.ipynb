{
 "cells": [
  {
   "cell_type": "code",
   "execution_count": 6,
   "metadata": {},
   "outputs": [],
   "source": [
    "import json \n",
    "\n",
    "import nltk\n",
    "from nltk.tokenize import word_tokenize\n",
    "from nltk.tokenize import sent_tokenize\n",
    "from nltk.corpus import stopwords\n",
    "from nltk.text import Text\n",
    "import string, re\n",
    "# import spacy"
   ]
  },
  {
   "cell_type": "code",
   "execution_count": 7,
   "metadata": {},
   "outputs": [],
   "source": [
    "with open('../data/raw/uy_tweets_coronavirus_2020-04-09T09:19:19.598204.json') as f:\n",
    "    dataset = json.load(f)"
   ]
  },
  {
   "cell_type": "code",
   "execution_count": 10,
   "metadata": {},
   "outputs": [
    {
     "data": {
      "text/plain": [
       "'El Virus Chino nos quiere convertir a todos y de prepo en Comunistas \\n#CoronaVirus #COVID19 https://t.co/ri01LSVVoe'"
      ]
     },
     "execution_count": 10,
     "metadata": {},
     "output_type": "execute_result"
    }
   ],
   "source": [
    "tweet = dataset[0]['full_text']\n",
    "tweet"
   ]
  },
  {
   "cell_type": "markdown",
   "metadata": {},
   "source": [
    "# Spacy"
   ]
  },
  {
   "cell_type": "code",
   "execution_count": null,
   "metadata": {},
   "outputs": [],
   "source": [
    "nlp = spacy.load('es_core_news_sm')"
   ]
  },
  {
   "cell_type": "code",
   "execution_count": 9,
   "metadata": {},
   "outputs": [],
   "source": [
    "doc = nlp(tweet)"
   ]
  },
  {
   "cell_type": "code",
   "execution_count": 10,
   "metadata": {},
   "outputs": [
    {
     "data": {
      "text/plain": [
       "['El',\n",
       " 'Virus',\n",
       " 'Chino',\n",
       " 'nos',\n",
       " 'quiere',\n",
       " 'convertir',\n",
       " 'a',\n",
       " 'todos',\n",
       " 'y',\n",
       " 'de',\n",
       " 'prepo',\n",
       " 'en',\n",
       " 'Comunistas',\n",
       " '\\n',\n",
       " '#',\n",
       " 'CoronaVirus',\n",
       " '#',\n",
       " 'COVID19',\n",
       " 'https://t.co/ri01LSVVoe']"
      ]
     },
     "execution_count": 10,
     "metadata": {},
     "output_type": "execute_result"
    }
   ],
   "source": [
    "[k.text for k in doc]"
   ]
  },
  {
   "cell_type": "code",
   "execution_count": 14,
   "metadata": {},
   "outputs": [
    {
     "data": {
      "text/plain": [
       "['RT',\n",
       " '@AFPespanol',\n",
       " ':',\n",
       " '#',\n",
       " 'ÚLTIMAHORA',\n",
       " 'Primer',\n",
       " 'día',\n",
       " 'sin',\n",
       " 'muerte',\n",
       " 'por',\n",
       " 'coronavirus',\n",
       " 'en',\n",
       " 'China',\n",
       " 'desde',\n",
       " 'comenzar',\n",
       " 'de',\n",
       " 'lo',\n",
       " 'epidemia',\n",
       " 'de',\n",
       " '#',\n",
       " 'COVID19',\n",
       " '#',\n",
       " 'AFP',\n",
       " 'https://t.co/srv',\n",
       " '…']"
      ]
     },
     "execution_count": 14,
     "metadata": {},
     "output_type": "execute_result"
    }
   ],
   "source": [
    "[k.lemma_ for k in doc]"
   ]
  },
  {
   "cell_type": "markdown",
   "metadata": {},
   "source": [
    "# NLTK"
   ]
  },
  {
   "cell_type": "code",
   "execution_count": 19,
   "metadata": {},
   "outputs": [],
   "source": [
    "stop_words_es = [k for k in stopwords.words('spanish')]\n"
   ]
  },
  {
   "cell_type": "code",
   "execution_count": 13,
   "metadata": {},
   "outputs": [
    {
     "data": {
      "text/plain": [
       "[('El', 'NNP'),\n",
       " ('Virus', 'NNP'),\n",
       " ('Chino', 'NNP'),\n",
       " ('nos', 'MD'),\n",
       " ('quiere', 'RB'),\n",
       " ('convertir', 'VB'),\n",
       " ('a', 'DT'),\n",
       " ('todos', 'JJ'),\n",
       " ('y', 'NN'),\n",
       " ('de', 'IN'),\n",
       " ('prepo', 'FW'),\n",
       " ('en', 'FW'),\n",
       " ('Comunistas', 'NNP'),\n",
       " ('#', '#'),\n",
       " ('CoronaVirus', 'NNP'),\n",
       " ('#', '#'),\n",
       " ('COVID19', 'NNP'),\n",
       " ('https', 'NN'),\n",
       " (':', ':'),\n",
       " ('//t.co/ri01LSVVoe', 'NN')]"
      ]
     },
     "execution_count": 13,
     "metadata": {},
     "output_type": "execute_result"
    }
   ],
   "source": [
    "nltk.pos_tag(word_tokenize(tweet))"
   ]
  },
  {
   "cell_type": "code",
   "execution_count": 22,
   "metadata": {},
   "outputs": [],
   "source": [
    "text = Text(word_tokenize('. '.join([k['full_text'] for k in dataset])))"
   ]
  },
  {
   "cell_type": "code",
   "execution_count": 24,
   "metadata": {},
   "outputs": [
    {
     "name": "stdout",
     "output_type": "stream",
     "text": [
      "Displaying 22 of 22 matches:\n",
      "ica no es el laboratorio del mundo.. Odio el frío , odio el invierno , odio el\n",
      "boratorio del mundo.. Odio el frío , odio el invierno , odio el coronavirus . \n",
      ".. Odio el frío , odio el invierno , odio el coronavirus . Por suerte no vino \n",
      "es que queria hacer para mis 25 . TE ODIO CORONAVIRUS DONDE QUIERAS QUE ESTES \n",
      "bién al pueblo , ah cierto porque lo odio . # ULTIMAHORA Japón anuncia un plan\n",
      " https : //t.co/srvWFl6O8z . Como te odio coronavírus . # ÚLTIMAHORA Trump exp\n",
      " ) # AFP https : //t.co/CvzKeMh1xr . Odio el coronavirus . Demasiado . Si no f\n",
      "apá , hermano , hijo , esposo ... el odio nos va a destruir más que el coronav\n",
      " https : //t.co/a5RRJbJAAV . Como te odio coronavírus . # ÚLTIMAHORA El secret\n",
      "imito y festejarle a el la pavada lo odio . Capaz que son los mismos que se ex\n",
      "4YE0xPO . @ keviborita Puff , yo los odio pero inevitablemente algo de efectiv\n",
      " Qué disparate ! Sólo una enferma de odio puede decir semejante estupidez . Re\n",
      "s cabecitas . . @ luiscostabonino EL ODIO NO ES EL CAMINO . El @ Frente_Amplio\n",
      "madreja es aumentar la brecha . Puro odio , siempre vomitando estiercol . http\n",
      " haces cargo de ellos ? jjaja cuanto odio tenes encima graciela , cuanta trist\n",
      "Un tiro duele menos . Coronavirus te odio . @ batlle_star @ ArtuHeber Qué lást\n",
      "h82diKP4Xw . Cada día aumenta más mi ODIO hacía el CORONAVIRUS https : //t.co/\n",
      "uier ser humano . Ud . Está lleno de odio ya no es interesante interactuar . S\n",
      " me toca el encierro de mi casa . Te odio coronavirus con todo mi ser ☹️ . # Ú\n",
      "stadio con camila , sol y abril , te odio coronavirus . Muere una familia ente\n",
      "año de mierda y este , coronavirus t odio . Los estudiantes que desafiaron adv\n",
      "Es muy preocupante las reacciones de odio y violencia hacia personas que lo co\n"
     ]
    }
   ],
   "source": [
    "text.concordance('odio')"
   ]
  }
 ],
 "metadata": {
  "kernelspec": {
   "display_name": "Python 3",
   "language": "python",
   "name": "python3"
  },
  "language_info": {
   "codemirror_mode": {
    "name": "ipython",
    "version": 3
   },
   "file_extension": ".py",
   "mimetype": "text/x-python",
   "name": "python",
   "nbconvert_exporter": "python",
   "pygments_lexer": "ipython3",
   "version": "3.7.1"
  },
  "toc": {
   "base_numbering": 1,
   "nav_menu": {},
   "number_sections": true,
   "sideBar": true,
   "skip_h1_title": false,
   "title_cell": "Table of Contents",
   "title_sidebar": "Contents",
   "toc_cell": false,
   "toc_position": {},
   "toc_section_display": true,
   "toc_window_display": false
  },
  "varInspector": {
   "cols": {
    "lenName": 16,
    "lenType": 16,
    "lenVar": 40
   },
   "kernels_config": {
    "python": {
     "delete_cmd_postfix": "",
     "delete_cmd_prefix": "del ",
     "library": "var_list.py",
     "varRefreshCmd": "print(var_dic_list())"
    },
    "r": {
     "delete_cmd_postfix": ") ",
     "delete_cmd_prefix": "rm(",
     "library": "var_list.r",
     "varRefreshCmd": "cat(var_dic_list()) "
    }
   },
   "types_to_exclude": [
    "module",
    "function",
    "builtin_function_or_method",
    "instance",
    "_Feature"
   ],
   "window_display": false
  }
 },
 "nbformat": 4,
 "nbformat_minor": 2
}
